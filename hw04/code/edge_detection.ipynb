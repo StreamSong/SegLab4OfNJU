{
  "cells": [
    {
      "cell_type": "markdown",
      "metadata": {
        "id": "L3-3VmiUfRNU"
      },
      "source": [
        "# HW4 - Q6: Exploring Inductive Bias of Convolutional Neural Networks and Systematic Experimentation in Machine Learning\n",
        "\n",
        "In this homework, we will study 1) what is inductive bias and how it affects the learning process, and 2) how to conduct systematic experiments in machine learning. We will compare convolutional neural networks (CNNs) and multi-layer perceptrons (MLPs) extensively as an example to study these two topics.\n",
        "\n",
        "## 1. Inductive Bias\n",
        "\n",
        "What is inductive bias? It is the assumption that the learning algorithm makes about the problem domain. Suppose that we build a machine learning system. We want to leverage the specific knowledge about the problem domain to make the learning process **more efficient** and the system **generalize much better** with fewer parameters. Let's be more precise. What do exactly **more efficient** and **generalize much better** mean? The learning process is more efficient 1) if we can learn the model with fewer parameters, 2) if we can learn the model with fewer data, and 3) if we can learn the model with fewer iterations. And the system generalizes much better if the model can generalize to the unseen data well.\n",
        "\n",
        "We have already observed the power of inductive bias. We know that CNN generalizes better than MLP even with the same number of parameters. We partially concluded that is because CNN has the inductive bias that the model is translation invariant. We will study the inductive bias of CNN in more detail in this homework.\n",
        "\n",
        "In this homework, we will use the edge detection task as an example to study the inductive bias of CNN. We will compare CNN and MLP extensively. And we will see when CNN can fail.\n",
        "\n",
        "## 2. Systematic Experimentation in Machine Learning\n",
        "\n",
        "How can we prove our hypothesis that CNN has the inductive bias that the model is translation invariant? We conduct extensive experiments in machine learning research (and other fields) to prove our hypothesis. In this context, systematic experimentation refers to running a series of experiments to prove our hypothesis. In this homework, we will study how to conduct systematic experimentation in machine learning.\n",
        "\n",
        "Let's take a step back and think about 1) what our hypothesis is and 2) what experiments are needed to conduct to prove our hypothesis. The first question is easy. The hypothesis is that CNN has the inductive biases of locality and translational invariance. It is not enough to show that CNN performs better than MLP with the same number of parameters. Then, how do we design the experiments to prove our hypothesis? In this homework, we will design the experiments, conduct the experiments, analyze the results, and draw a conclusion."
      ]
    },
    {
      "cell_type": "code",
      "execution_count": 1,
      "metadata": {
        "id": "kARHLLg8fRNX",
        "outputId": "7b595673-0d62-4a5b-c29c-1f7c1fe12247",
        "colab": {
          "base_uri": "https://localhost:8080/"
        }
      },
      "outputs": [
        {
          "output_type": "stream",
          "name": "stderr",
          "text": [
            "/tmp/ipython-input-3989156832.py:15: DeprecationWarning: Please import `rotate` from the `scipy.ndimage` namespace; the `scipy.ndimage.interpolation` namespace is deprecated and will be removed in SciPy 2.0.0.\n",
            "  from scipy.ndimage.interpolation import rotate\n"
          ]
        }
      ],
      "source": [
        "import numpy as np\n",
        "import random\n",
        "import matplotlib.pyplot as plt\n",
        "\n",
        "import torch\n",
        "import torch.nn as nn\n",
        "import torch.nn.functional as F\n",
        "import torch.optim as optim\n",
        "from torch.utils.data import Dataset\n",
        "import torchvision\n",
        "import torchvision.transforms as T\n",
        "from torchvision.transforms import ToPILImage\n",
        "\n",
        "from PIL import Image\n",
        "from scipy.ndimage.interpolation import rotate\n",
        "from sklearn.linear_model import LogisticRegression\n",
        "from tqdm import tqdm\n",
        "from copy import deepcopy\n",
        "from torch.utils.data import DataLoader"
      ]
    },
    {
      "cell_type": "markdown",
      "metadata": {
        "id": "qTjhkOx9jI-z"
      },
      "source": [
        "### Helper functions\n",
        "\n",
        "The following code cell defines function and classes that will be used in the succeeding codes. Feel free to check it if you are not sure about details."
      ]
    },
    {
      "cell_type": "code",
      "execution_count": 2,
      "metadata": {
        "id": "P3nybaBIfuel"
      },
      "outputs": [],
      "source": [
        "class EdgeDetectionDataset(Dataset):\n",
        "    def __init__(self, domain_config, mode=\"train\", transform=None) -> None:\n",
        "        \"\"\"\n",
        "        Args:\n",
        "            domain_config (dict): Domain configuration\n",
        "                data_per_class (int): Number of data per class\n",
        "                num_classes (int): Number of classes\n",
        "                class_type (list): List of class types\n",
        "                spatial_resolution (int): length of height and width of the image\n",
        "                max_edge_width (int): Maximum edge width\n",
        "                max_edge_intensity (float): Maximum edge intensity\n",
        "                min_edge_intensity (float): Minimum edge intensity\n",
        "                max_background_intensity (float): Maximum background intensity\n",
        "                min_background_intensity (float): Minimum background intensity\n",
        "                possible_edge_location_ratio (float): Confine the possible edge location to a ratio of the spatial resolution\n",
        "                num_horizontal_edge (int): Number of horizontal edges\n",
        "                num_vertical_edge (int): Number of vertical edges\n",
        "                use_permutation (bool): Whether to apply random permutation on the image\n",
        "            mode (str): Mode of the dataset (train, val, test)\n",
        "            transform (callable, optional): Optional transform to be applied on a sample.\n",
        "        \"\"\"\n",
        "        self.data_per_class = domain_config.get(\"data_per_class\", 1000)\n",
        "        self.num_classes = domain_config.get(\"num_classes\", 3)\n",
        "        self.class_type = domain_config.get(\n",
        "            \"class_type\", [\"horizontal\", \"vertical\", \"none\"]\n",
        "        )\n",
        "        self.spatial_resolution = domain_config.get(\"spatial_resolution\", 28)\n",
        "        self.min_edge_width = domain_config.get(\"min_edge_width\", 1)\n",
        "        self.max_edge_width = domain_config.get(\"max_edge_width\", 4)\n",
        "        self.max_edge_intensity = domain_config.get(\"max_edge_intensity\", 1)\n",
        "        self.min_edge_intensity = domain_config.get(\"min_edge_intensity\", 0.25)\n",
        "        self.max_background_intensity = domain_config.get(\n",
        "            \"max_background_intensity\", 0.2\n",
        "        )\n",
        "        self.min_background_intensity = domain_config.get(\"min_background_intensity\", 0)\n",
        "        self.possible_edge_location_ratio = domain_config.get(\n",
        "            \"possible_edge_location_ratio\", 1.0\n",
        "        )\n",
        "        self.num_horizontal_edge = domain_config.get(\"num_horizontal_edge\", 1)\n",
        "        self.num_vertical_edge = domain_config.get(\"num_vertical_edge\", 1)\n",
        "        self.num_diagonal_edge = domain_config.get(\"num_diagonal_edge\", 1)\n",
        "        self.use_permutation = domain_config.get(\"use_permutation\", False)\n",
        "        self.permutater = domain_config.get(\"permutater\", None)\n",
        "        self.unpermutater = domain_config.get(\"unpermutater\", None)\n",
        "\n",
        "        if self.possible_edge_location_ratio < 1.0:\n",
        "            self.train_val_domain_shift = True\n",
        "        else:\n",
        "            self.train_val_domain_shift = False\n",
        "\n",
        "        self.possible_edge_location = int(\n",
        "            self.possible_edge_location_ratio * self.spatial_resolution\n",
        "        )\n",
        "        self.mode = mode\n",
        "\n",
        "        assert self.num_classes == len(\n",
        "            self.class_type\n",
        "        ), \"Number of classes must match the number of class types\"\n",
        "\n",
        "        assert self.mode in (\n",
        "            \"train\",\n",
        "            \"valid\",\n",
        "            \"test\",\n",
        "        ), \"Mode must be either train, valid, or test\"\n",
        "\n",
        "        self.X = None\n",
        "        self.y = None\n",
        "\n",
        "        if self.use_permutation:\n",
        "            assert self.permutater is not None, \"permutater must be provided\"\n",
        "            assert self.unpermutater is not None, \"Unpermutater must be provided\"\n",
        "\n",
        "        self._generate_dataset()\n",
        "\n",
        "        self.transform = transform\n",
        "\n",
        "    def __len__(self):\n",
        "        \"\"\"\n",
        "        Returns:\n",
        "            int: Length of the dataset\n",
        "        \"\"\"\n",
        "        return len(self.X)\n",
        "\n",
        "    def __getitem__(self, idx):\n",
        "        \"\"\"\n",
        "        Args:\n",
        "            idx (int): Index of the sample\n",
        "        Returns:\n",
        "            tuple: (sample, label)\n",
        "        \"\"\"\n",
        "        if torch.is_tensor(idx):\n",
        "            idx = idx.tolist()\n",
        "\n",
        "        sample = self.X[idx]\n",
        "        label = self.y[idx]\n",
        "\n",
        "        if self.transform:\n",
        "            sample = self.transform(sample)\n",
        "\n",
        "        return sample, label\n",
        "\n",
        "    def get_permutater(self):\n",
        "        \"\"\"\n",
        "        Returns:\n",
        "            np.ndarray: Permutation matrix\n",
        "        \"\"\"\n",
        "        return self.permutater\n",
        "\n",
        "    def get_unpermutater(self):\n",
        "        \"\"\"\n",
        "        Returns:\n",
        "            np.ndarray: Unpermutation matrix\n",
        "        \"\"\"\n",
        "        return self.unpermutater\n",
        "\n",
        "    def _permute_pixels(self, X):\n",
        "        \"\"\"\n",
        "        Args:\n",
        "            X (np.ndarray): Image\n",
        "        Returns:\n",
        "            np.ndarray: Permuted image\n",
        "        \"\"\"\n",
        "        assert X.shape[0] == self.data_per_class, \"Invalid image shape\"\n",
        "        assert len(X.shape) == 4, \"Invalid image shape\"\n",
        "\n",
        "        n, h, w, c = X.shape\n",
        "\n",
        "        X = X.reshape(n, h * w, c)\n",
        "        X = X[:, self.permutater, :]\n",
        "        X = X.reshape(n, h, w, c)\n",
        "\n",
        "        return X\n",
        "\n",
        "    def _edge_intensity(self, edge_type=\"horizontal\"):\n",
        "        \"\"\"\n",
        "        Args:\n",
        "            edge_type (str): Type of edge (horizontal, vertical, both, diagonal)\n",
        "        Returns:\n",
        "            np.ndarray: Edge intensity\n",
        "        \"\"\"\n",
        "        if edge_type == \"horizontal\":\n",
        "            num_edge = self.num_horizontal_edge\n",
        "        elif edge_type == \"vertical\":\n",
        "            num_edge = self.num_vertical_edge\n",
        "        elif edge_type == \"diagonal\":\n",
        "            num_edge = self.num_diagonal_edge\n",
        "        elif edge_type == \"both\":\n",
        "            num_edge = self.num_horizontal_edge + self.num_vertical_edge\n",
        "        else:\n",
        "            raise ValueError(\"Invalid edge type\")\n",
        "\n",
        "        return np.random.uniform(\n",
        "            self.min_edge_intensity,\n",
        "            self.max_edge_intensity,\n",
        "            size=(self.data_per_class, num_edge),\n",
        "        )\n",
        "\n",
        "    def _edge_location(self, edge_type=\"horizontal\"):\n",
        "        \"\"\"\n",
        "        Args:\n",
        "            edge_type (str): Type of edge (horizontal, vertical, both, diagonal)\n",
        "        Returns:\n",
        "            np.ndarray: Edge location\n",
        "        \"\"\"\n",
        "        max_edge_width = self.max_edge_width + 1\n",
        "        if edge_type == \"horizontal\":\n",
        "            num_edge = self.num_horizontal_edge\n",
        "        elif edge_type == \"vertical\":\n",
        "            num_edge = self.num_vertical_edge\n",
        "        elif edge_type == \"diagonal\":\n",
        "            num_edge = self.num_diagonal_edge\n",
        "            max_edge_width = int(self.max_edge_width / np.sqrt(2))\n",
        "        elif edge_type == \"both\":\n",
        "            num_edge = self.num_horizontal_edge + self.num_vertical_edge\n",
        "        else:\n",
        "            raise ValueError(\"Invalid edge type\")\n",
        "\n",
        "        edge_width = np.random.randint(\n",
        "            self.min_edge_width, max_edge_width, size=(self.data_per_class, num_edge)\n",
        "        )\n",
        "\n",
        "        if self.mode == \"train\" and self.train_val_domain_shift:\n",
        "            edge_location_start_idx = np.random.randint(\n",
        "                0,\n",
        "                self.possible_edge_location - edge_width,\n",
        "                size=(self.data_per_class, num_edge),\n",
        "            )\n",
        "            edge_location_end_idx = np.clip(\n",
        "                edge_location_start_idx + edge_width,\n",
        "                0,\n",
        "                self.possible_edge_location-1,\n",
        "            )\n",
        "\n",
        "        elif self.mode == \"valid\" and self.train_val_domain_shift:\n",
        "            edge_location_start_idx = np.random.randint(\n",
        "                self.possible_edge_location,\n",
        "                self.spatial_resolution - edge_width,\n",
        "                size=(self.data_per_class, num_edge),\n",
        "            )\n",
        "            edge_location_end_idx = np.clip(\n",
        "                edge_location_start_idx + edge_width,\n",
        "                self.possible_edge_location,\n",
        "                self.spatial_resolution-1,\n",
        "            )\n",
        "\n",
        "        else:\n",
        "            edge_location_start_idx = np.random.randint(\n",
        "                0,\n",
        "                self.spatial_resolution - edge_width,\n",
        "                size=(self.data_per_class, num_edge),\n",
        "            )\n",
        "            edge_location_end_idx = np.clip(\n",
        "                edge_location_start_idx + edge_width,\n",
        "                0,\n",
        "                self.spatial_resolution-1,\n",
        "            )\n",
        "\n",
        "        return edge_location_start_idx, edge_location_end_idx\n",
        "\n",
        "    def _generate_hoizontal_edge_images(self):\n",
        "        \"\"\"\n",
        "        Generate horizontal edge images\n",
        "        Returns:\n",
        "            np.ndarray: Generated horizontal edge images\n",
        "        \"\"\"\n",
        "        assert (\n",
        "            self.num_horizontal_edge > 0\n",
        "        ), \"Number of horizontal edge must be greater than 0\"\n",
        "\n",
        "        X = self._generate_background_images()\n",
        "\n",
        "        edge_location_start_idx, edge_location_end_idx = self._edge_location(\n",
        "            edge_type=\"horizontal\"\n",
        "        )\n",
        "        edge_intensity = self._edge_intensity()\n",
        "\n",
        "        for i in range(self.data_per_class):\n",
        "            for j in range(self.num_horizontal_edge):\n",
        "                X[\n",
        "                    i, edge_location_start_idx[i, j] : edge_location_end_idx[i, j], :, :\n",
        "                ] = edge_intensity[i, j]\n",
        "\n",
        "        return X\n",
        "\n",
        "    def _generate_vertical_edge_images(self):\n",
        "        \"\"\"\n",
        "        Generate vertical edge images\n",
        "        Returns:\n",
        "            np.ndarray: Generated vertical edge images\n",
        "        \"\"\"\n",
        "        assert (\n",
        "            self.num_vertical_edge > 0\n",
        "        ), \"Number of vertical edge must be greater than 0\"\n",
        "\n",
        "        X = self._generate_background_images()\n",
        "\n",
        "        edge_location_start_idx, edge_location_end_idx = self._edge_location(\n",
        "            edge_type=\"vertical\"\n",
        "        )\n",
        "        edge_intensity = self._edge_intensity()\n",
        "\n",
        "        for i in range(self.data_per_class):\n",
        "            for j in range(self.num_vertical_edge):\n",
        "                X[\n",
        "                    i,\n",
        "                    :,\n",
        "                    edge_location_start_idx[i, j] : edge_location_end_idx[i, j],\n",
        "                    :,\n",
        "                ] = edge_intensity[i, j]\n",
        "\n",
        "        return X\n",
        "\n",
        "    def _generate_both_edge_images(self):\n",
        "        \"\"\"\n",
        "        Generate horizontal/vertical edge images\n",
        "        Returns:\n",
        "            np.ndarray: Generated horizontal/vertical edge images\n",
        "        \"\"\"\n",
        "        assert (\n",
        "            self.num_horizontal_edge > 0\n",
        "        ), \"Number of horizontal edge must be greater than 0\"\n",
        "        assert (\n",
        "            self.num_vertical_edge > 0\n",
        "        ), \"Number of vertical edge must be greater than 0\"\n",
        "\n",
        "        X = self._generate_background_images()\n",
        "\n",
        "        edge_location_start_idx, edge_location_end_idx = self._edge_location(\n",
        "            edge_type=\"both\"\n",
        "        )\n",
        "        edge_intensity = self._edge_intensity(edge_type=\"both\")\n",
        "\n",
        "        for i in range(self.data_per_class):\n",
        "            for j in range(self.num_horizontal_edge):\n",
        "                X[\n",
        "                    i,\n",
        "                    edge_location_start_idx[i, j] : edge_location_end_idx[i, j],\n",
        "                    :,\n",
        "                    :,\n",
        "                ] = edge_intensity[i, j]\n",
        "            for j in range(self.num_vertical_edge):\n",
        "                X[\n",
        "                    i,\n",
        "                    :,\n",
        "                    edge_location_start_idx[i, j] : edge_location_end_idx[i, j],\n",
        "                ] = edge_intensity[i, self.num_horizontal_edge + j]\n",
        "\n",
        "        return X\n",
        "\n",
        "    def _generate_diagonal_edge_images(self):\n",
        "        \"\"\"\n",
        "        Generate diagonal edge images by rotating images\n",
        "        Returns:\n",
        "            np.ndarray: Generated diagonal edge images\n",
        "        \"\"\"\n",
        "        assert (\n",
        "            self.num_diagonal_edge > 0\n",
        "        ), \"Number of diagonal edge must be greater than 0\"\n",
        "\n",
        "        X = self._generate_background_images()\n",
        "        background_intensity = np.mean(X, axis=(1, 2, 3))\n",
        "\n",
        "        edge_location_start_idx, edge_location_end_idx = self._edge_location(\n",
        "            edge_type=\"diagonal\"\n",
        "        )\n",
        "        edge_intensity = self._edge_intensity(edge_type=\"diagonal\")\n",
        "\n",
        "        random_angle = np.random.choice(\n",
        "            [30, 45, 120, 135], size=(self.data_per_class, self.num_diagonal_edge)\n",
        "        )\n",
        "\n",
        "        for i in range(self.data_per_class):\n",
        "            for j in range(self.num_diagonal_edge):\n",
        "                if i % 2 == 0:  # horizontal\n",
        "                    X[\n",
        "                        i,\n",
        "                        edge_location_start_idx[i, j] : edge_location_end_idx[i, j],\n",
        "                        :,\n",
        "                        :,\n",
        "                    ] = edge_intensity[i, j]\n",
        "                else:  # vertical\n",
        "                    X[\n",
        "                        i,\n",
        "                        :,\n",
        "                        edge_location_start_idx[i, j] : edge_location_end_idx[i, j],\n",
        "                    ] = edge_intensity[i, j]\n",
        "                X[i] = rotate(\n",
        "                    X[i],\n",
        "                    random_angle[i, j],\n",
        "                    reshape=False,\n",
        "                    mode=\"constant\",\n",
        "                    cval=background_intensity[i],\n",
        "                )\n",
        "        return X\n",
        "\n",
        "    def _generate_background_images(self):\n",
        "        \"\"\"\n",
        "        Generate background images\n",
        "        Returns:\n",
        "            np.ndarray: Generated background images\n",
        "        \"\"\"\n",
        "        X = np.ones(\n",
        "            (self.data_per_class, self.spatial_resolution, self.spatial_resolution, 1),\n",
        "        )  # NHWC format\n",
        "        X *= np.random.uniform(\n",
        "            self.min_background_intensity,\n",
        "            self.max_background_intensity,\n",
        "            size=(self.data_per_class, 1, 1, 1),\n",
        "        )\n",
        "        return X\n",
        "\n",
        "    def get_image_statistics(self):\n",
        "        \"\"\"\n",
        "        Get image statistics\n",
        "        Returns:\n",
        "            tuple: (mean, std)\n",
        "            mean (float): Mean of the images\n",
        "            std (float): Standard deviation of the images\n",
        "        \"\"\"\n",
        "        return self._mean, self._std\n",
        "\n",
        "    def _generate_dataset(self):\n",
        "        \"\"\"\n",
        "        Generate dataset\n",
        "        Returns:\n",
        "            tuple: (X, y)\n",
        "            X (list of PIL Image): Generated images\n",
        "            y (np.ndarray): Generated labels\n",
        "        \"\"\"\n",
        "        num_data = self.data_per_class * self.num_classes\n",
        "        self.X = np.zeros(\n",
        "            (num_data, self.spatial_resolution, self.spatial_resolution, 1)\n",
        "        )\n",
        "        self.y = np.zeros((num_data,), dtype=np.int64)\n",
        "        for i in range(self.num_classes):\n",
        "            class_type = self.class_type[i]\n",
        "            if class_type == \"horizontal\":\n",
        "                X = self._generate_hoizontal_edge_images()\n",
        "            elif class_type == \"vertical\":\n",
        "                X = self._generate_vertical_edge_images()\n",
        "            elif class_type == \"both\":\n",
        "                X = self._generate_both_edge_images()\n",
        "            elif class_type == \"diagonal\":\n",
        "                X = self._generate_diagonal_edge_images()\n",
        "            elif class_type == \"none\":\n",
        "                X = self._generate_background_images()\n",
        "            else:\n",
        "                raise ValueError(\"Invalid class type\")\n",
        "\n",
        "            assert X.shape == (\n",
        "                self.data_per_class,\n",
        "                self.spatial_resolution,\n",
        "                self.spatial_resolution,\n",
        "                1,\n",
        "            )  # NHWC format\n",
        "\n",
        "            # permute pixels\n",
        "            if self.use_permutation:\n",
        "                X = self._permute_pixels(X)\n",
        "\n",
        "            self.X[i * self.data_per_class : (i + 1) * self.data_per_class] = X\n",
        "            self.y[i * self.data_per_class : (i + 1) * self.data_per_class] = i\n",
        "\n",
        "        # Compute mean and std\n",
        "        self._mean = np.mean(self.X)\n",
        "        self._std = np.std(self.X)\n",
        "\n",
        "        # np.float32 -> np.uint8\n",
        "        self.X = (self.X * 255).astype(np.uint8)\n",
        "\n",
        "        # Convert ndarray to PIL Image\n",
        "        self.X = [T.functional.to_pil_image(x) for x in self.X]\n",
        "\n",
        "\n",
        "def count_parameters(model, only_trainable=False):\n",
        "    if only_trainable:\n",
        "        return sum(p.numel() for p in model.parameters() if p.requires_grad)\n",
        "    else:\n",
        "        return sum(p.numel() for p in model.parameters())\n",
        "\n",
        "def freeze_conv_layer(model):\n",
        "    for name, param in model.named_parameters():\n",
        "        if name.startswith('conv'):\n",
        "            param.requires_grad = False\n",
        "\n",
        "def init_conv_kernel_with_edge_detector(model):\n",
        "    # Get kernel size\n",
        "    kernel_size = model.conv1.kernel_size[0]\n",
        "\n",
        "    # number of filters should be 3\n",
        "    num_filters = model.conv1.out_channels\n",
        "    assert num_filters == 3, \"Number of filters should be 3\"\n",
        "\n",
        "    if kernel_size == 2:\n",
        "        # 2 x 2 edge detector\n",
        "        horizontal_edge_detector = torch.tensor([[1, 1], [-1, -1]], dtype=torch.float32)\n",
        "        vertical_edge_detector = torch.tensor([[1, -1], [1, -1]], dtype=torch.float32)\n",
        "        none_edge_detector = torch.tensor([[0, 0], [0, 0]], dtype=torch.float32)\n",
        "    elif kernel_size == 7:\n",
        "        # 7 x 7 edge detector\n",
        "        horizontal_edge_detector = torch.tensor([\n",
        "            [0, 0, 0, 0, 0, 0, 0],\n",
        "            [0, 0, 0, 0, 0, 0, 0],\n",
        "            [1, 1, 1, 1, 1, 1, 1],\n",
        "            [-1, -1, -1, -1, -1, -1, -1],\n",
        "            [0, 0, 0, 0, 0, 0, 0],\n",
        "            [0, 0, 0, 0, 0, 0, 0],\n",
        "            [0, 0, 0, 0, 0, 0, 0]], dtype=torch.float32)\n",
        "        vertical_edge_detector = horizontal_edge_detector.T\n",
        "        none_edge_detector = model.conv1.weight.data[0, 0] # torch.zeros((7, 7), dtype=torch.float32)\n",
        "    else:\n",
        "        horizontal_edge_detector = torch.from_numpy(custom_sobel((kernel_size, kernel_size), 0))\n",
        "        vertical_edge_detector = torch.from_numpy(custom_sobel((kernel_size, kernel_size), 1))\n",
        "        none_edge_detector = torch.from_numpy(np.zeros((kernel_size, kernel_size)))\n",
        "\n",
        "    edge_detector = torch.stack([horizontal_edge_detector, vertical_edge_detector, none_edge_detector])\n",
        "    model.conv1.weight.data = edge_detector.view(model.num_filter, 1, model.kernel_size, model.kernel_size)\n",
        "    model.conv2.weight.data = torch.cat([model.conv1.weight.data, model.conv1.weight.data, model.conv1.weight.data], dim=1)\n",
        "\n",
        "    # type casting\n",
        "    model.conv1.weight.data = model.conv1.weight.data.type(torch.FloatTensor)\n",
        "    model.conv2.weight.data = model.conv2.weight.data.type(torch.FloatTensor)\n",
        "\n",
        "    # bias\n",
        "    model.conv1.bias.data = torch.tensor([0, 0, 0], dtype=torch.float32)\n",
        "    model.conv2.bias.data = torch.tensor([0, 0, 0], dtype=torch.float32)\n",
        "\n",
        "def custom_sobel(shape, axis):\n",
        "    \"\"\"\n",
        "    shape must be odd: eg. (5,5)\n",
        "    axis is the direction, with 0 to positive x and 1 to positive y\n",
        "    \"\"\"\n",
        "    k = np.zeros(shape, dtype=np.float32)\n",
        "    p = [(j,i) for j in range(shape[0])\n",
        "           for i in range(shape[1])\n",
        "           if not (i == (shape[1] -1)/2. and j == (shape[0] -1)/2.)]\n",
        "\n",
        "    for j, i in p:\n",
        "        j_ = int(j - (shape[0] -1)/2.)\n",
        "        i_ = int(i - (shape[1] -1)/2.)\n",
        "        k[j,i] = (i_ if axis==0 else j_)/float(i_*i_ + j_*j_)\n",
        "    return k\n",
        "\n",
        "\n",
        "def set_seed(seed):\n",
        "    \"\"\"\n",
        "    Set the seed for all random number generators.\n",
        "    \"\"\"\n",
        "    random.seed(seed)\n",
        "    np.random.seed(seed)\n",
        "    torch.manual_seed(seed)\n",
        "    torch.cuda.manual_seed(seed)\n",
        "    torch.cuda.manual_seed_all(seed)\n",
        "\n",
        "\n",
        "def train_one_epoch(\n",
        "    model,\n",
        "    optimizer,\n",
        "    criterion,\n",
        "    train_loader,\n",
        "    device,\n",
        "    epoch,\n",
        "    log_interval=100,\n",
        "    verbose=True,\n",
        "):\n",
        "    model.train()\n",
        "    # return the average loss and accuracy\n",
        "    train_loss = 0\n",
        "    correct = 0\n",
        "\n",
        "    for batch_idx, (data, target) in enumerate(train_loader):\n",
        "        data, target = data.to(device), target.to(device)\n",
        "        optimizer.zero_grad()\n",
        "        output = model(data)\n",
        "        loss = criterion(output, target)\n",
        "        loss.backward()\n",
        "        optimizer.step()\n",
        "\n",
        "        train_loss += loss.item()\n",
        "        pred = output.argmax(\n",
        "            dim=1, keepdim=True\n",
        "        )\n",
        "        correct += pred.eq(target.view_as(pred)).sum().item()\n",
        "\n",
        "        if batch_idx % log_interval == 0 and verbose:\n",
        "            print(\n",
        "                \"Train Epoch: {} [{}/{} ({:.0f}%)]\\tLoss: {:.6f}\".format(\n",
        "                    epoch,\n",
        "                    batch_idx * len(data),\n",
        "                    len(train_loader.dataset),\n",
        "                    100.0 * batch_idx / len(train_loader),\n",
        "                    loss.item(),\n",
        "                )\n",
        "            )\n",
        "\n",
        "    train_loss /= len(train_loader.dataset)\n",
        "    train_accuracy = correct / len(train_loader.dataset) * 100.\n",
        "\n",
        "    return train_loss, train_accuracy\n",
        "\n",
        "def _generate_confusion_matrix(pred_list, target_list):\n",
        "    pred_list = torch.cat(pred_list)\n",
        "    target_list = torch.cat(target_list)\n",
        "\n",
        "    assert pred_list.shape[0] == target_list.shape[0], \"predictions and targets should have the same length\"\n",
        "\n",
        "    matrix_size = max(max(pred_list), max(target_list)) + 1\n",
        "    confusion_matrix = torch.zeros(matrix_size, matrix_size)\n",
        "\n",
        "    for t, p in zip(target_list.view(-1), pred_list.view(-1)):\n",
        "        confusion_matrix[t.long(), p.long()] += 1\n",
        "\n",
        "    return confusion_matrix.cpu().numpy()\n",
        "\n",
        "def evaluate(model, criterion, valid_loader, device, verbose=True):\n",
        "    model.eval()\n",
        "    valid_loss = 0\n",
        "    correct = 0\n",
        "\n",
        "    pred_list, target_list = [], []\n",
        "    confusion_matrix = torch.zeros(4, 4)\n",
        "\n",
        "    with torch.no_grad():\n",
        "        for data, target in valid_loader:\n",
        "            data, target = data.to(device), target.to(device)\n",
        "            output = model(data)\n",
        "            valid_loss += criterion(output, target).item()  # sum up batch loss\n",
        "            pred = output.argmax(\n",
        "                dim=1, keepdim=True\n",
        "            )  # get the index of the max log-probability\n",
        "            correct += pred.eq(target.view_as(pred)).sum().item()\n",
        "\n",
        "            pred_list.append(pred)\n",
        "            target_list.append(target)\n",
        "\n",
        "    confusion_matrix = _generate_confusion_matrix(pred_list, target_list)\n",
        "\n",
        "    valid_loss /= len(valid_loader.dataset)\n",
        "    valid_accuracy = 100.0 * correct / len(valid_loader.dataset)\n",
        "\n",
        "    if verbose:\n",
        "        print(\n",
        "            \"Validation Result: Average loss: {:.4f}, Accuracy: {}/{} ({:.0f}%)\".format(\n",
        "                valid_loss, correct, len(valid_loader.dataset), valid_accuracy\n",
        "            )\n",
        "        )\n",
        "\n",
        "    return valid_loss, valid_accuracy, confusion_matrix\n",
        "\n",
        "\n",
        "def vis_training_curve(cnn_train_loss, cnn_train_acc, mlp_train_loss, mlp_train_acc, label=\"MLP\"):\n",
        "    # if mlp lists are empty, then we are only plotting the CNN\n",
        "    if mlp_train_loss is None or len(mlp_train_loss) == 0:\n",
        "        fig, ax = plt.subplots(1, 2, figsize=(20, 5))\n",
        "        ax[0].plot(cnn_train_loss, label=\"CNN\")\n",
        "        ax[0].set_title(\"Training Loss\")\n",
        "        ax[0].set_xlabel(\"Epoch\")\n",
        "        ax[0].set_ylabel(\"Loss\")\n",
        "        ax[0].legend()\n",
        "        ax[0].grid()\n",
        "\n",
        "        ax[1].plot(cnn_train_acc, label=\"CNN\")\n",
        "        ax[1].set_title(\"Training Accuracy\")\n",
        "        ax[1].set_xlabel(\"Epoch\")\n",
        "        ax[1].set_ylabel(\"Accuracy (%)\")\n",
        "        ax[1].legend()\n",
        "        ax[1].grid()\n",
        "\n",
        "        plt.show()\n",
        "\n",
        "    # if cnn lists are empty, then we are only plotting the MLP\n",
        "    elif cnn_train_loss is None or len(cnn_train_loss) == 0:\n",
        "        fig, ax = plt.subplots(1, 2, figsize=(20, 5))\n",
        "        ax[0].plot(mlp_train_loss, label=label)\n",
        "        ax[0].set_title(\"Training Loss\")\n",
        "        ax[0].set_xlabel(\"Epoch\")\n",
        "        ax[0].set_ylabel(\"Loss\")\n",
        "        ax[0].legend()\n",
        "        ax[0].grid()\n",
        "\n",
        "        ax[1].plot(mlp_train_acc, label=label)\n",
        "        ax[1].set_title(\"Training Accuracy\")\n",
        "        ax[1].set_xlabel(\"Epoch\")\n",
        "        ax[1].set_ylabel(\"Accuracy (%)\")\n",
        "        ax[1].legend()\n",
        "        ax[1].grid()\n",
        "\n",
        "        plt.show()\n",
        "\n",
        "    # if both lists are not empty, then we are plotting both CNN and MLP\n",
        "    else:\n",
        "        fig, ax = plt.subplots(1, 2, figsize=(20, 5))\n",
        "        ax[0].plot(cnn_train_loss, label=\"CNN\")\n",
        "        ax[0].plot(mlp_train_loss, label=label)\n",
        "        ax[0].set_title(\"Training Loss\")\n",
        "        ax[0].set_xlabel(\"Epoch\")\n",
        "        ax[0].set_ylabel(\"Loss\")\n",
        "        ax[0].legend()\n",
        "        ax[0].grid()\n",
        "\n",
        "        ax[1].plot(cnn_train_acc, label=\"CNN\")\n",
        "        ax[1].plot(mlp_train_acc, label=label)\n",
        "        ax[1].set_title(\"Training Accuracy\")\n",
        "        ax[1].set_xlabel(\"Epoch\")\n",
        "        ax[1].set_ylabel(\"Accuracy (%)\")\n",
        "        ax[1].legend()\n",
        "        ax[1].grid()\n",
        "\n",
        "        plt.show()\n",
        "\n",
        "\n",
        "def vis_validation_curve(cnn_valid_loss, cnn_valid_acc, mlp_valid_loss, mlp_valid_acc,  label=\"MLP\"):\n",
        "    # if mlp lists are empty, then we are only plotting the CNN\n",
        "    if mlp_valid_loss is None or len(mlp_valid_loss) == 0:\n",
        "        fig, ax = plt.subplots(1, 2, figsize=(20, 5))\n",
        "        ax[0].plot(cnn_valid_loss, label=\"CNN\")\n",
        "        ax[0].set_title(\"Validation Loss\")\n",
        "        ax[0].set_xlabel(\"Epoch\")\n",
        "        ax[0].set_ylabel(\"Loss\")\n",
        "        ax[0].legend()\n",
        "        ax[0].grid()\n",
        "\n",
        "        ax[1].plot(cnn_valid_acc, label=\"CNN\")\n",
        "        ax[1].set_title(\"Validation Accuracy\")\n",
        "        ax[1].set_xlabel(\"Epoch\")\n",
        "        ax[1].set_ylabel(\"Accuracy (%)\")\n",
        "        ax[1].legend()\n",
        "        ax[1].grid()\n",
        "\n",
        "        plt.show()\n",
        "\n",
        "    # if cnn lists are empty, then we are only plotting the MLP\n",
        "    elif cnn_valid_loss is None or len(cnn_valid_loss) == 0:\n",
        "        fig, ax = plt.subplots(1, 2, figsize=(20, 5))\n",
        "        ax[0].plot(mlp_valid_loss, label=label)\n",
        "        ax[0].set_title(\"Validation Loss\")\n",
        "        ax[0].set_xlabel(\"Epoch\")\n",
        "        ax[0].set_ylabel(\"Loss\")\n",
        "        ax[0].legend()\n",
        "        ax[0].grid()\n",
        "\n",
        "        ax[1].plot(mlp_valid_acc, label=label)\n",
        "        ax[1].set_title(\"Validation Accuracy\")\n",
        "        ax[1].set_xlabel(\"Epoch\")\n",
        "        ax[1].set_ylabel(\"Accuracy (%)\")\n",
        "        ax[1].legend()\n",
        "        ax[1].grid()\n",
        "\n",
        "        plt.show()\n",
        "\n",
        "    # if both lists are not empty, then we are plotting both CNN and MLP\n",
        "    else:\n",
        "        fig, ax = plt.subplots(1, 2, figsize=(20, 5))\n",
        "        ax[0].plot(cnn_valid_loss, label=\"CNN\")\n",
        "        ax[0].plot(mlp_valid_loss, label=label)\n",
        "        ax[0].set_title(\"Validation Loss\")\n",
        "        ax[0].set_xlabel(\"Epoch\")\n",
        "        ax[0].set_ylabel(\"Loss\")\n",
        "        ax[0].legend()\n",
        "        ax[0].grid()\n",
        "\n",
        "        ax[1].plot(cnn_valid_acc, label=\"CNN\")\n",
        "        ax[1].plot(mlp_valid_acc, label=label)\n",
        "        ax[1].set_title(\"Validation Accuracy\")\n",
        "        ax[1].set_xlabel(\"Epoch\")\n",
        "        ax[1].set_ylabel(\"Accuracy (%)\")\n",
        "        ax[1].legend()\n",
        "        ax[1].grid()\n",
        "\n",
        "        plt.show()\n",
        "\n",
        "\n",
        "def vis_kernel(tensor, ch=0, allkernels=False, nrow=8, padding=1, title=None, cmap=\"Blues\", ax=None):\n",
        "    n, c, h, w = tensor.shape\n",
        "\n",
        "    if allkernels:\n",
        "        tensor = tensor.view(n * c, -1, h, w)\n",
        "    elif c != 3:\n",
        "        tensor = tensor[:, ch, :, :].unsqueeze(dim=1)\n",
        "\n",
        "    rows = np.min((tensor.shape[0] // nrow + 1, 64))\n",
        "    grid = (\n",
        "        torchvision.utils.make_grid(tensor, nrow=nrow, normalize=True, padding=padding)\n",
        "        .numpy()\n",
        "        .transpose((1, 2, 0))\n",
        "    )\n",
        "    plt.figure(figsize=(nrow, rows))\n",
        "    plt.imshow(grid, cmap=cmap)\n",
        "    # plt.colorbar(cmap=cmap)\n",
        "    if title is not None:\n",
        "        plt.title(title, fontsize=\"small\")\n",
        "    plt.axis(\"off\")\n",
        "    plt.ioff()\n",
        "    plt.show()\n",
        "\n",
        "\n",
        "def vis_confusion_matrix(confusion_matrix, class_names=None, title=None):\n",
        "    fig = plt.figure(figsize=(10, 10))\n",
        "    ax = fig.add_subplot(111)\n",
        "    cax = ax.matshow(confusion_matrix, cmap=plt.cm.Blues)\n",
        "    fig.colorbar(cax)\n",
        "\n",
        "    matrix_size = confusion_matrix.shape[0]\n",
        "\n",
        "    if class_names is not None:\n",
        "        assert len(class_names) == matrix_size, \"Class names must be same length as confusion matrix\"\n",
        "        ax.set_xticklabels([\"\"] + class_names, rotation=90)\n",
        "        ax.set_yticklabels([\"\"] + class_names)\n",
        "\n",
        "    ax.set_xlabel(\"Predicted\")\n",
        "    ax.set_ylabel(\"True\")\n",
        "    ax.xaxis.set_label_position(\"top\")\n",
        "    ax.xaxis.tick_top()\n",
        "    ax.set_title(title)\n",
        "\n",
        "    for (i, j), z in np.ndenumerate(confusion_matrix):\n",
        "        ax.text(j, i, \"{:0.1f}\".format(z), ha=\"center\", va=\"center\")\n",
        "\n",
        "\n",
        "def vis_unpermuted_dataset(dataset, num_classes, num_show_per_class, unpermutator):\n",
        "    f, axarr = plt.subplots(num_classes, num_show_per_class, figsize=(20, 2*num_classes))\n",
        "\n",
        "    for i in range(num_classes):\n",
        "        for j in range(num_show_per_class):\n",
        "            img = dataset[i * num_show_per_class + j][0]\n",
        "            label = dataset[i * num_show_per_class + j][1]\n",
        "\n",
        "            if isinstance(img, torch.Tensor):\n",
        "                img = img.numpy().transpose((1, 2, 0))\n",
        "                h, w, c = img.shape\n",
        "                assert c == 1\n",
        "                img = img.reshape((h * w, c))\n",
        "                img = img[unpermutator, :]\n",
        "                img = img.reshape(h, w)\n",
        "                axarr[i, j].imshow(img, cmap=\"gray\", vmin=0, vmax=1)\n",
        "\n",
        "            elif isinstance(img, Image.Image):\n",
        "                img = np.array(img)\n",
        "                h, w = img.shape\n",
        "                img = img.reshape(h*w)\n",
        "                img = img[unpermutator]\n",
        "                img = img.reshape(h, w)\n",
        "                img = T.functional.to_pil_image(img)\n",
        "                axarr[i, j].imshow(img, cmap=\"gray\", vmin=0, vmax=255)\n",
        "\n",
        "            axarr[i, j].axis(\"off\")\n",
        "            axarr[i, j].set_title('Class: {}'.format(label))\n",
        "\n",
        "\n",
        "def vis_dataset(dataset, num_classes=3, num_show_per_class=10):\n",
        "    f, axarr = plt.subplots(num_classes, num_show_per_class, figsize=(20, 2*num_classes))\n",
        "\n",
        "    for i in range(num_classes):\n",
        "        for j in range(num_show_per_class):\n",
        "            img = dataset[i * num_show_per_class + j][0]\n",
        "            label = dataset[i * num_show_per_class + j][1]\n",
        "\n",
        "            if isinstance(img, torch.Tensor):\n",
        "                img = img.numpy().transpose((1, 2, 0))\n",
        "                img = img.squeeze()\n",
        "                axarr[i, j].imshow(img, cmap=\"gray\", vmin=0, vmax=1)\n",
        "            elif isinstance(img, Image.Image):\n",
        "                axarr[i, j].imshow(img, cmap=\"gray\", vmin=0, vmax=255)\n",
        "            axarr[i, j].axis(\"off\")\n",
        "            axarr[i, j].set_title('Class: {}'.format(label))\n",
        "\n",
        "\n",
        "class WiderCNN(nn.Module):\n",
        "    def __init__(self, input_channel=1, num_filters=6, kernel_size=7, num_classes=5):\n",
        "        super(WiderCNN, self).__init__()\n",
        "        padding = (kernel_size - 1) // 2\n",
        "        self.conv1 = nn.Conv2d(input_channel, num_filters, kernel_size=kernel_size, padding=padding, padding_mode='reflect')\n",
        "        self.conv2 = nn.Conv2d(num_filters, num_filters, kernel_size=kernel_size, padding=padding, padding_mode='reflect')\n",
        "        self.maxpool = nn.MaxPool2d(2, 2)\n",
        "        self.fc = nn.Linear(num_filters, num_classes)\n",
        "\n",
        "    def forward(self, x):\n",
        "        x = F.relu(self.conv1(x))\n",
        "        x = self.maxpool(x)\n",
        "        x = F.relu(self.conv2(x))\n",
        "        x = F.adaptive_avg_pool2d(x, (1, 1)).squeeze()\n",
        "        x = self.fc(x)\n",
        "\n",
        "        return x\n",
        "\n",
        "class DeeperCNN(nn.Module):\n",
        "    def __init__(self, input_channel=1, num_filters=3, kernel_size=7, num_classes=5):\n",
        "        super().__init__()\n",
        "        padding = (kernel_size - 1) // 2\n",
        "        self.conv1 = nn.Conv2d(input_channel, num_filters, kernel_size=kernel_size, padding=padding, padding_mode='reflect')\n",
        "        self.conv2 = nn.Conv2d(num_filters, num_filters, kernel_size=kernel_size, padding=padding, padding_mode='reflect')\n",
        "        self.conv3 = nn.Conv2d(num_filters, num_filters, kernel_size=kernel_size, padding=padding, padding_mode='reflect')\n",
        "        self.conv4 = nn.Conv2d(num_filters, num_filters, kernel_size=kernel_size, padding=padding, padding_mode='reflect')\n",
        "        self.maxpool = nn.MaxPool2d(2, 2)\n",
        "        self.fc1 = nn.Linear(num_filters, num_classes)\n",
        "\n",
        "        self.num_filters = num_filters\n",
        "\n",
        "    def forward(self, x):\n",
        "        x = F.relu(self.conv1(x))\n",
        "        x = F.relu(self.conv2(x))\n",
        "        x = self.maxpool(x)\n",
        "        x = F.relu(self.conv3(x))\n",
        "        x = F.relu(self.conv4(x))\n",
        "        x = F.adaptive_avg_pool2d(x, (1, 1)).squeeze()\n",
        "        x = self.fc1(x)\n",
        "        return x\n",
        "\n",
        "class SimpleCNN(nn.Module):\n",
        "    def __init__(self, num_filters=3, kernel_size=2, num_classes=3):\n",
        "        super().__init__()\n",
        "        padding = (kernel_size - 1) // 2\n",
        "        self.conv1 = nn.Conv2d(1, num_filters, kernel_size, padding=padding, padding_mode='reflect')\n",
        "        self.conv2 = nn.Conv2d(num_filters, num_filters, kernel_size, padding=padding, padding_mode='reflect')\n",
        "        self.maxpool = nn.MaxPool2d(2, 2)\n",
        "        self.fc = nn.Linear(num_filters, num_classes)\n",
        "\n",
        "        self.num_filter = num_filters\n",
        "        self.kernel_size = kernel_size\n",
        "\n",
        "    def forward(self, x):\n",
        "        x = self.conv1(x)\n",
        "        x = F.relu(x)\n",
        "        x = self.maxpool(x)\n",
        "        x = self.conv2(x)\n",
        "        x = F.relu(x)\n",
        "        x = F.adaptive_avg_pool2d(x, (1, 1)).squeeze()\n",
        "        x = self.fc(x)\n",
        "\n",
        "        return x\n",
        "\n",
        "    def get_features(self, x):\n",
        "        feat_list = []\n",
        "        x = self.conv1(x)\n",
        "        feat_list.append(x)\n",
        "        x = F.relu(x)\n",
        "        feat_list.append(x)\n",
        "        x = self.maxpool(x)\n",
        "        feat_list.append(x)\n",
        "        x = self.conv2(x)\n",
        "        feat_list.append(x)\n",
        "        x = F.relu(x)\n",
        "        feat_list.append(x)\n",
        "        x = F.adaptive_avg_pool2d(x, (1, 1)).squeeze()\n",
        "        feat_list.append(x)\n",
        "\n",
        "        return feat_list\n",
        "\n",
        "class SimpleCNN_avgpool(nn.Module):\n",
        "    def __init__(self, num_filters=3, kernel_size=2, num_classes=3):\n",
        "        super().__init__()\n",
        "        padding = (kernel_size - 1) // 2\n",
        "        self.conv1 = nn.Conv2d(1, num_filters, kernel_size, padding=padding, padding_mode='reflect')\n",
        "        self.conv2 = nn.Conv2d(num_filters, num_filters, kernel_size, padding=padding, padding_mode='reflect')\n",
        "        self.avgpool = nn.AvgPool2d(2, 2)\n",
        "        self.fc = nn.Linear(num_filters, num_classes)\n",
        "\n",
        "        self.num_filter = num_filters\n",
        "        self.kernel_size = kernel_size\n",
        "\n",
        "\n",
        "    def forward(self, x):\n",
        "        x = self.conv1(x)\n",
        "        x = F.relu(x)\n",
        "        x = self.avgpool(x)\n",
        "        x = self.conv2(x)\n",
        "        x = F.relu(x)\n",
        "        x = F.adaptive_avg_pool2d(x, (1, 1)).squeeze()\n",
        "        x = self.fc(x)\n",
        "\n",
        "        return x\n",
        "\n",
        "    def get_features(self, x):\n",
        "        feat_list = []\n",
        "        x = self.conv1(x)\n",
        "        feat_list.append(x)\n",
        "        x = F.relu(x)\n",
        "        feat_list.append(x)\n",
        "        x = self.avgpool(x)\n",
        "        feat_list.append(x)\n",
        "        x = self.conv2(x)\n",
        "        feat_list.append(x)\n",
        "        x = F.relu(x)\n",
        "        feat_list.append(x)\n",
        "        x = F.adaptive_avg_pool2d(x, (1, 1)).squeeze()\n",
        "        feat_list.append(x)\n",
        "\n",
        "        return feat_list\n",
        "\n",
        "class ThreeLayerCNN(nn.Module):\n",
        "    def __init__(\n",
        "        self,\n",
        "        input_dim=(1, 28, 28),\n",
        "        num_filters=64, #make it explicit\n",
        "        filter_size=7,\n",
        "        hidden_dim=100,\n",
        "        num_classes=4,\n",
        "    ):\n",
        "        \"\"\"\n",
        "        A three-layer convolutional network with the following architecture:\n",
        "        conv - relu - 2x2 max pool - affine - relu - affine - softmax\n",
        "        The network operates on minibatches of data that have shape (N, C, H, W)\n",
        "        consisting of N images, each with height H and width W and with C input\n",
        "        channels.\n",
        "        Args:\n",
        "            kernel_size (int): Size of the convolutional kernel\n",
        "            channel_size (int): Number of channels in the convolutional layer\n",
        "            linear_layer_input_dim (int): Number of input features to the linear layer\n",
        "            output_dim (int): Number of output features\n",
        "        \"\"\"\n",
        "        super(ThreeLayerCNN, self).__init__()\n",
        "        C, H, W = input_dim\n",
        "\n",
        "        self.conv1 = nn.Conv2d(\n",
        "            C, num_filters, filter_size, stride=1, padding=(filter_size - 1) // 2\n",
        "        )\n",
        "        self.max_pool = nn.MaxPool2d(2, 2)\n",
        "        self.conv2 = nn.Conv2d(\n",
        "            num_filters, num_filters * 2, filter_size, padding=(filter_size - 1) // 2\n",
        "        )\n",
        "        self.fc1 = nn.Linear(num_filters * 2, num_classes)\n",
        "\n",
        "    def forward(self, x):\n",
        "        x = F.relu(self.conv1(x))\n",
        "        x = F.relu(self.conv2(x))\n",
        "        x = F.adaptive_avg_pool2d(x, (1, 1)).squeeze()\n",
        "        x = self.fc1(x)\n",
        "        return x\n",
        "\n",
        "\n",
        "class TwoLayerMLP(nn.Module):\n",
        "    def __init__(self, input_dim=(1, 28, 28), hidden_dim=10, num_classes=3):\n",
        "        super(TwoLayerMLP, self).__init__()\n",
        "        C, H, W = input_dim\n",
        "        self.fc1 = nn.Linear(C * H * W, hidden_dim)\n",
        "        self.fc2 = nn.Linear(hidden_dim, num_classes)\n",
        "\n",
        "    def forward(self, x):\n",
        "        x = x.view(x.size(0), -1)\n",
        "        x = F.relu(self.fc1(x))\n",
        "        x = self.fc2(x)\n",
        "        return x\n",
        "\n",
        "class ThreeLayerMLP(nn.Module):\n",
        "    def __init__(self, input_dim=(1, 28, 28), hidden_dims=[10, 10], num_classes=3, seed=7):\n",
        "        \"\"\"\n",
        "        A three-layer fully-connected neural network with ReLU nonlinearity\n",
        "        \"\"\"\n",
        "        super(ThreeLayerMLP, self).__init__()\n",
        "        torch.manual_seed(seed)\n",
        "        C, H, W = input_dim\n",
        "        self.fc1 = nn.Linear(C * H * W, hidden_dims[0])\n",
        "        self.fc2 = nn.Linear(hidden_dims[0], hidden_dims[1])\n",
        "        self.fc3 = nn.Linear(hidden_dims[1], num_classes)\n",
        "\n",
        "    def forward(self, x):\n",
        "        x = x.view(x.size(0), -1)\n",
        "        x = F.relu(self.fc1(x))\n",
        "        x = F.relu(self.fc2(x))\n",
        "        x = self.fc3(x)\n",
        "\n",
        "        return x"
      ]
    },
    {
      "cell_type": "code",
      "execution_count": 4,
      "metadata": {
        "id": "RK_EKFhwgUBT"
      },
      "outputs": [],
      "source": [
        "seed = 10\n",
        "set_seed(seed)\n",
        "\n",
        "%matplotlib inline\n",
        "plt.rcParams['figure.figsize'] = (10.0, 8.0) # set default size of plots\n",
        "plt.rcParams['image.interpolation'] = 'nearest'\n",
        "plt.rcParams['image.cmap'] = 'gray'\n",
        "\n",
        "# for auto-reloading external modules\n",
        "# see http://stackoverflow.com/questions/1907993/autoreload-of-modules-in-ipython\n",
        "# comment out the lines below if using Python version >= 3.12 (but you will need to manually rerun cells)\n",
        "%load_ext autoreload\n",
        "%autoreload 2"
      ]
    },
    {
      "cell_type": "markdown",
      "metadata": {
        "id": "LAqnKAQofRNZ"
      },
      "source": [
        "## Generate Dataset\n",
        "\n",
        "What would be an excellent dataset to study the inductive bias of CNN? First, have to start with the problem as simple as possible. The complex problem makes it hard to understand the underlying mechanism and is challenging to debug in experimental settings. Hence, we choose the edge detection task as an example to study the inductive bias of CNN. Because\n",
        "1. Edge detection is a straightforward task,\n",
        "2. It is easy to generate the dataset,\n",
        "\n",
        "3. The edge of the image is a very fundamental low-level feature useful to every computer vision task such as object detection and finally,\n",
        "\n",
        "4. Edge detection is an excellent example of studying the inductive bias of CNN.\n",
        "\n",
        "We will generate the dataset for this toy problem. The dataset consists of 10 images of size 28x28 per class, which are all grey scales. Each image contains a vertical edge, a horizontal edge, or nothing. The labels are 0 for vertical edges, 1 for horizontal edges, and 2 for nothing.\n",
        "\n",
        "`EdgeDetectionDataset` class is a dataset class that generates and loads the dataset. The dataset inherits `torch.utils.data.Dataset`, and it generates data when it is initialized. This class takes two arguments: `domain_config` and `transform.` `domain_config` is a dictionary that specifies the domain information of train/valid dataset, such as the number of images per class and the size of the image. `transform` is a function that transforms the image. In this homework, we will use `torchvision.transforms.ToTensor()` to convert the image to a tensor.\n",
        "\n",
        "We highly recommend you read the implementation of `EdgeDetectionDataset` class in `dataset/edge_detection_dataset.py` to understand how the dataset is generated."
      ]
    },
    {
      "cell_type": "code",
      "execution_count": 5,
      "metadata": {
        "id": "iTVTebk0fRNZ"
      },
      "outputs": [],
      "source": [
        "# Define the domain configuration of the dataset\n",
        "set_seed(seed)\n",
        "\n",
        "visualize_data_config = dict(\n",
        "    data_per_class=10,\n",
        "    num_classes=3,\n",
        "    class_type=[\"horizontal\", \"vertical\", \"none\"],\n",
        ")\n",
        "\n",
        "visualize_dataset = EdgeDetectionDataset(visualize_data_config, mode='train', transform=None)"
      ]
    },
    {
      "cell_type": "markdown",
      "metadata": {
        "id": "zUrS-FAdfRNZ"
      },
      "source": [
        "## Visualize Dataset"
      ]
    },
    {
      "cell_type": "code",
      "execution_count": 6,
      "metadata": {
        "id": "BnW_atsqfRNa",
        "outputId": "6c251fb9-ebef-4bff-d928-8139f45ea234",
        "colab": {
          "base_uri": "https://localhost:8080/",
          "height": 396
        }
      },
      "outputs": [
        {
          "output_type": "display_data",
          "data": {
            "text/plain": [
              "<Figure size 2000x600 with 30 Axes>"
            ],
            "image/png": "[encoded data removed]"
          },
          "metadata": {}
        }
      ],
      "source": [
        "vis_dataset(visualize_dataset, num_classes=3, num_show_per_class=10)\n",
        "plt.show()"
      ]
    },
    {
      "cell_type": "markdown",
      "metadata": {
        "id": "fzFdaJUXfRNa"
      },
      "source": [
        "## Q1. Overfitting Models to Small Dataset\n",
        "\n",
        "In this problem, we will make our models overfit the small dataset to test the model architecture and our synthetic dataset. We use the same dataset for both models. Let's generate a small dataset with ten images per class."
      ]
    },
    {
      "cell_type": "code",
      "execution_count": 8,
      "metadata": {
        "id": "pnzVT0_4fRNb"
      },
      "outputs": [],
      "source": [
        "set_seed(seed)\n",
        "\n",
        "small_dataset_config = dict(\n",
        "    data_per_class=10,\n",
        "    num_classes=3,\n",
        "    class_type=[\"horizontal\", \"vertical\", \"none\"],\n",
        ")\n",
        "transforms = T.Compose([T.ToTensor()])\n",
        "small_dataset = EdgeDetectionDataset(small_dataset_config, mode='train', transform=transforms)\n",
        "# ?? a train/test/valid\n",
        "#############################################################################\n",
        "# TODO: Generate dataset with 10 images per class                          #\n",
        "# Hint: Refer visualize_data_config and use EdgeDetectionDataset and        #\n",
        "# transforms function provided above.                                       #\n",
        "#############################################################################\n",
        "#############################################################################\n",
        "#                             END OF YOUR CODE                              #\n",
        "#############################################################################"
      ]
    },
    {
      "cell_type": "markdown",
      "metadata": {
        "id": "u-T6tY_2fRNb"
      },
      "source": [
        "In this notebook, we will use pytorch dataloader to load the dataset. We will use `torch.utils.data.DataLoader` to load the dataset. `DataLoader` takes two arguments: `dataset` and `batch_size`. `dataset` is the dataset that we want to load. Note that `batch_size` is one of important hyperparameters. We will use `batch_size=32` for this problem."
      ]
    },
    {
      "cell_type": "code",
      "execution_count": 9,
      "metadata": {
        "id": "vK8us1MAfRNb"
      },
      "outputs": [],
      "source": [
        "small_dataset_loader = DataLoader(small_dataset, batch_size=32, shuffle=True)\n",
        "\n",
        "#############################################################################\n",
        "# TODO: Implement dataloader                                                #\n",
        "# Hint: You should flag shuffle = True for training data loader             #\n",
        "# This flag makes huge difference in training                               #\n",
        "#############################################################################\n",
        "#############################################################################\n",
        "#                             END OF YOUR CODE                              #\n",
        "#############################################################################"
      ]
    },
    {
      "cell_type": "markdown",
      "metadata": {
        "id": "99NdgqqbfRNb"
      },
      "source": [
        "### Model Architecture\n",
        "\n",
        "MLP has two hidden layer with 10 hidden units and 10 hidden units. The input size is 28x28=784 and the output size is 3. We use ReLU as the activation function. We use cross entropy loss as the loss function.\n",
        "\n",
        "MLP architecture: FC(784, 10) -> ReLU -> FC(10, 10) -> ReLU -> FC(10, 3)\n",
        "\n",
        "CNN has two convolutional layers followed by global average pooling and one fully connected layer. Both convolutional layers have 3 filters whose kernel size is 7. We use ReLU as the activation function. We use cross entropy loss as the loss function.\n",
        "\n",
        "CNN arhitecture is as follows: CONV - RELU - MAXPOOL - CONV - RELU - MAXPOOL - FC"
      ]
    },
    {
      "cell_type": "markdown",
      "metadata": {
        "id": "msySKOb_fRNb"
      },
      "source": [
        "### Fitting on Small Dataset\n",
        "\n",
        "Now let's train the model on the small dataset. The final tranining loss should be around 100% for both models."
      ]
    },
    {
      "cell_type": "code",
      "execution_count": 10,
      "metadata": {
        "id": "c0ruzHnCfRNc",
        "outputId": "0b5e0b63-596a-42a3-fefe-75a0ff042837",
        "colab": {
          "base_uri": "https://localhost:8080/"
        }
      },
      "outputs": [
        {
          "output_type": "stream",
          "name": "stdout",
          "text": [
            "CNN Model has 606 parameters\n",
            "MLP Model has 39793 parameters\n"
          ]
        },
        {
          "output_type": "stream",
          "name": "stderr",
          "text": [
            "100%|██████████| 500/500 [00:09<00:00, 51.58it/s]"
          ]
        },
        {
          "output_type": "stream",
          "name": "stdout",
          "text": [
            "CNN Acc: 100.0, MLP Acc: 100.0\n"
          ]
        },
        {
          "output_type": "stream",
          "name": "stderr",
          "text": [
            "\n"
          ]
        }
      ],
      "source": [
        "set_seed(seed)\n",
        "\n",
        "lr = 1e-2\n",
        "num_epochs = 500\n",
        "device = torch.device(\"cuda:0\" if torch.cuda.is_available() else \"cpu\")\n",
        "\n",
        "cnn_model = SimpleCNN(kernel_size=7)\n",
        "cnn_model.to(device)\n",
        "untrained_cnn_model = deepcopy(cnn_model)\n",
        "\n",
        "mlp_model = ThreeLayerMLP(hidden_dims=[50, 10])\n",
        "mlp_model.to(device)\n",
        "\n",
        "mlp_optimizer = optim.SGD(mlp_model.parameters(), lr=lr, momentum=0.9)\n",
        "cnn_optimizer = optim.SGD(cnn_model.parameters(), lr=lr, momentum=0.9)\n",
        "\n",
        "criterion = nn.CrossEntropyLoss()\n",
        "print(\"CNN Model has {} parameters\".format(count_parameters(cnn_model, only_trainable=True)))\n",
        "print(\"MLP Model has {} parameters\".format(count_parameters(mlp_model, only_trainable=True)))\n",
        "\n",
        "for epoch in tqdm(range(num_epochs)):\n",
        "    train_one_epoch(cnn_model, cnn_optimizer, criterion, small_dataset_loader, device, epoch, verbose=False)\n",
        "    train_one_epoch(mlp_model, mlp_optimizer, criterion, small_dataset_loader, device, epoch, verbose=False)\n",
        "\n",
        "_, cnn_acc, _ = evaluate(cnn_model, criterion, small_dataset_loader, device, verbose=False)\n",
        "_, mlp_acc, _ = evaluate(mlp_model, criterion, small_dataset_loader, device, verbose=False)\n",
        "\n",
        "print(\"CNN Acc: {}, MLP Acc: {}\".format(cnn_acc, mlp_acc))"
      ]
    },
    {
      "cell_type": "markdown",
      "metadata": {
        "id": "LHUkBSw6fRNc"
      },
      "source": [
        "We checked that both models can overfit the small dataset. This is one of the most important sanity check. If the model cannot overfit the small dataset, the model is not powerful enough to learn the dataset. In this case, we need to increase the size of the model."
      ]
    },
    {
      "cell_type": "markdown",
      "metadata": {
        "id": "71sdjo6CfRNc"
      },
      "source": [
        "### Visualize Learned Filters"
      ]
    },
    {
      "cell_type": "code",
      "execution_count": 11,
      "metadata": {
        "id": "ASl3VJ2zfRNc",
        "outputId": "ed6b1252-b288-469a-ae3f-1190c9c6464d",
        "colab": {
          "base_uri": "https://localhost:8080/",
          "height": 247
        }
      },
      "outputs": [
        {
          "output_type": "display_data",
          "data": {
            "text/plain": [
              "<Figure size 800x100 with 1 Axes>"
            ],
            "image/png": "[encoded data removed]"
          },
          "metadata": {}
        },
        {
          "output_type": "display_data",
          "data": {
            "text/plain": [
              "<Figure size 800x100 with 1 Axes>"
            ],
            "image/png": "[encoded data removed]"
          },
          "metadata": {}
        }
      ],
      "source": [
        "cnn_kernel = cnn_model.conv1.weight.data.clone().cpu()\n",
        "untrained_kernel = untrained_cnn_model.conv1.weight.data.clone().cpu()\n",
        "\n",
        "vis_kernel(cnn_kernel, ch=0, allkernels=False, title='Trained CNN Kernel')\n",
        "vis_kernel(untrained_kernel, ch=0, allkernels=False, title='Untrained CNN Kernel')\n"
      ]
    },
    {
      "cell_type": "markdown",
      "metadata": {
        "id": "d-hADVAffRNc"
      },
      "source": [
        "### Question\n",
        "\n",
        "**Can you find any interesting patterns in the learned filters?** Answer this question in your submission of the written assignment.\n",
        "\n",
        "**Ans**: The trained CNN kernel keeps some features which the untrained kernel already has. For the leftmost kernel, the black line in the center row is still the same, and other parts of the kernel are more blur. For the middle kernel, the white parts are rearrangeed to some white columns. And for the rightmost kernel, the relationship of values in the kernel are almost the same, only being averaged a little and become more grey instead of sharp black and white."
      ]
    },
    {
      "cell_type": "markdown",
      "metadata": {
        "id": "KecY3INSfRNc"
      },
      "source": [
        "## Q2. Sweeping the Number of Training Images\n",
        "\n",
        "We understood the given task and checked that both models had enough expressive power. We will compare the performance of MLP and CNN by changing the number of data per class. We expect that the model with proper inductive biases on this task will fit with **fewer training examples**. And let's see which one has inductive biases. In this problem, we will use the same dataset for both models. We sweep the number of training images from 10 to 500. The validation set will be the same for all the experiments."
      ]
    },
    {
      "cell_type": "code",
      "execution_count": 17,
      "metadata": {
        "id": "N5AldjOAfRNc"
      },
      "outputs": [],
      "source": [
        "set_seed(seed)\n",
        "\n",
        "transforms = T.Compose([T.ToTensor()])\n",
        "train_loader_dict = dict()\n",
        "train_batch_size = 10\n",
        "valid_batch_size = 256\n",
        "\n",
        "for i in [5, 10, 30, 50, 100]:\n",
        "  train_data_config_i = dict(\n",
        "      data_per_class=i,\n",
        "      num_classes=3,\n",
        "      class_type=[\"horizontal\", \"vertical\", \"none\"],\n",
        "  )\n",
        "  train_dataset_i = EdgeDetectionDataset(train_data_config_i, mode='train', transform=transforms)\n",
        "  train_dataset_loader_i = DataLoader(train_dataset_i, batch_size=train_batch_size, shuffle=True)\n",
        "  train_loader_dict[i] = train_dataset_loader_i\n",
        "\n",
        "num_images_list = [5, 10, 30, 50, 100]\n",
        "valid_loader = None\n",
        "\n",
        "valid_data_config = dict(\n",
        "      data_per_class=50,\n",
        "      num_classes=3,\n",
        "      class_type=[\"horizontal\", \"vertical\", \"none\"],\n",
        ")\n",
        "\n",
        "valid_dataset = EdgeDetectionDataset(valid_data_config, mode='valid', transform=transforms)\n",
        "valid_loader = DataLoader(valid_dataset, batch_size=valid_batch_size, shuffle=True)\n",
        "\n",
        "# print(train_loader_dict)\n",
        "# print(valid_loader)\n",
        "\n",
        "#############################################################################\n",
        "# TODO: Implement train_loader_dict for each number of training images.     #\n",
        "# Key: The number of training images (5, 10, 30, 50, and 100)               #\n",
        "# Value: The corresponding dataloader                                       #\n",
        "# The validation set size is 50 images per class                            #\n",
        "#############################################################################\n",
        "#############################################################################\n",
        "#                             END OF YOUR CODE                              #\n",
        "#############################################################################"
      ]
    },
    {
      "cell_type": "code",
      "execution_count": 18,
      "metadata": {
        "id": "4b3wTmmjfRNc",
        "outputId": "2008a829-3ffd-4267-9c1c-0dd5e990778d",
        "colab": {
          "base_uri": "https://localhost:8080/"
        }
      },
      "outputs": [
        {
          "output_type": "stream",
          "name": "stdout",
          "text": [
            "Training with 5 images\n"
          ]
        },
        {
          "output_type": "stream",
          "name": "stderr",
          "text": [
            "100%|██████████| 30/30 [00:00<00:00, 63.60it/s]\n"
          ]
        },
        {
          "output_type": "stream",
          "name": "stdout",
          "text": [
            "CNN Acc: 46.0, MLP Acc: 46.666666666666664\n",
            "Training with 10 images\n"
          ]
        },
        {
          "output_type": "stream",
          "name": "stderr",
          "text": [
            "100%|██████████| 30/30 [00:00<00:00, 38.79it/s]\n"
          ]
        },
        {
          "output_type": "stream",
          "name": "stdout",
          "text": [
            "CNN Acc: 52.666666666666664, MLP Acc: 47.333333333333336\n",
            "Training with 30 images\n"
          ]
        },
        {
          "output_type": "stream",
          "name": "stderr",
          "text": [
            "100%|██████████| 30/30 [00:02<00:00, 13.52it/s]\n"
          ]
        },
        {
          "output_type": "stream",
          "name": "stdout",
          "text": [
            "CNN Acc: 76.0, MLP Acc: 75.33333333333333\n",
            "Training with 50 images\n"
          ]
        },
        {
          "output_type": "stream",
          "name": "stderr",
          "text": [
            "100%|██████████| 30/30 [00:03<00:00,  8.04it/s]\n"
          ]
        },
        {
          "output_type": "stream",
          "name": "stdout",
          "text": [
            "CNN Acc: 84.0, MLP Acc: 78.0\n",
            "Training with 100 images\n"
          ]
        },
        {
          "output_type": "stream",
          "name": "stderr",
          "text": [
            "100%|██████████| 30/30 [00:07<00:00,  3.76it/s]"
          ]
        },
        {
          "output_type": "stream",
          "name": "stdout",
          "text": [
            "CNN Acc: 94.0, MLP Acc: 94.0\n"
          ]
        },
        {
          "output_type": "stream",
          "name": "stderr",
          "text": [
            "\n"
          ]
        }
      ],
      "source": [
        "lr = 1e-2\n",
        "num_epochs = 30\n",
        "device = torch.device(\"cuda:0\" if torch.cuda.is_available() else \"cpu\")\n",
        "criterion = nn.CrossEntropyLoss()\n",
        "\n",
        "cnn_acc_list = list()\n",
        "mlp_acc_list = list()\n",
        "\n",
        "cnn_kernel_dict = dict()\n",
        "untrained_cnn_kernel_dict = dict()\n",
        "\n",
        "for num_image, train_loader in train_loader_dict.items():\n",
        "    print(\"Training with {} images\".format(num_image))\n",
        "    set_seed(seed)\n",
        "    cnn_model = SimpleCNN(kernel_size=7)\n",
        "    untrained_cnn_model = deepcopy(cnn_model)\n",
        "    cnn_model.to(device)\n",
        "\n",
        "    mlp_model = ThreeLayerMLP(hidden_dims=[50, 10])\n",
        "    mlp_model.to(device)\n",
        "\n",
        "    mlp_optimizer = optim.SGD(mlp_model.parameters(), lr=lr, momentum=0.9)\n",
        "    cnn_optimizer = optim.SGD(cnn_model.parameters(), lr=lr, momentum=0.9)\n",
        "\n",
        "    for epoch in tqdm(range(num_epochs)):\n",
        "        train_one_epoch(cnn_model, cnn_optimizer, criterion, train_loader, device, epoch, verbose=False)\n",
        "        train_one_epoch(mlp_model, mlp_optimizer, criterion, train_loader, device, epoch, verbose=False)\n",
        "\n",
        "    cnn_kernel_dict[num_image] = deepcopy(cnn_model.conv1.weight.cpu().detach())\n",
        "    untrained_cnn_kernel_dict[num_image] = deepcopy(untrained_cnn_model.conv1.weight.cpu().detach())\n",
        "\n",
        "    _, cnn_valid_acc, _ = evaluate(cnn_model, criterion, valid_loader, device, verbose=False)\n",
        "    _, mlp_valid_acc, _ = evaluate(mlp_model, criterion, valid_loader, device, verbose=False)\n",
        "\n",
        "    print(\"CNN Acc: {}, MLP Acc: {}\".format(cnn_valid_acc, mlp_valid_acc))\n",
        "    cnn_acc_list.append(cnn_valid_acc)\n",
        "    mlp_acc_list.append(mlp_valid_acc)"
      ]
    },
    {
      "cell_type": "code",
      "execution_count": 19,
      "metadata": {
        "id": "8h6JiSJ8fRNd",
        "outputId": "fe6b07eb-b2ff-42de-9e14-9f24a48c73f3",
        "colab": {
          "base_uri": "https://localhost:8080/",
          "height": 634
        }
      },
      "outputs": [
        {
          "output_type": "display_data",
          "data": {
            "text/plain": [
              "<Figure size 1000x800 with 0 Axes>"
            ]
          },
          "metadata": {}
        },
        {
          "output_type": "display_data",
          "data": {
            "text/plain": [
              "<Figure size 600x600 with 0 Axes>"
            ]
          },
          "metadata": {}
        },
        {
          "output_type": "display_data",
          "data": {
            "text/plain": [
              "<Figure size 600x600 with 1 Axes>"
            ],
            "image/png": "[encoded data removed]"
          },
          "metadata": {}
        }
      ],
      "source": [
        "## Plot the validation accuracy\n",
        "plt.clf()\n",
        "fig, ax = plt.subplots(1, 1, figsize=(3, 3), dpi=200)\n",
        "ax.plot(num_images_list, cnn_acc_list, marker='o', label='CNN')\n",
        "ax.plot(num_images_list, mlp_acc_list, marker='o', label='MLP')\n",
        "ax.set_xlabel('# of Training Images per Class')\n",
        "ax.set_ylabel('Validation Accuracy (%)')\n",
        "ax.legend()\n",
        "ax.grid()\n",
        "plt.tight_layout()\n",
        "plt.show()"
      ]
    },
    {
      "cell_type": "markdown",
      "metadata": {
        "id": "aMC2EUiKfRNd"
      },
      "source": [
        "OK, in most cases, CNN looks like it is performing better than MLP. So can we conclude that CNN has the inductive biases of locality and translational invariance? Not yet. We need to conduct a series of other experiments to show that CNN has such inductive biases.\n",
        "\n"
      ]
    },
    {
      "cell_type": "markdown",
      "metadata": {
        "id": "x5FYT3VJfRNd"
      },
      "source": [
        "Seemingly, the experiment result is odd. First, the performance of the low data regime ```num_train_images_per_class=10``` is very bad, considering the task is straightforward. Second, we observe that the performance of MLP is better than CNN at some point. At least, CNN should be much better even in a small data regime if it is translational equivariant. How do we debug the model? We will study how to debug the model in the following problem."
      ]
    },
    {
      "cell_type": "markdown",
      "metadata": {
        "id": "Zpq_lUkxfRNd"
      },
      "source": [
        "Here are some checklists that you can do to debug the problem.\n",
        "\n",
        "1. Did you check the dataset? For example, is the dataset balanced? Is the dataset noisy? Is the dataset too small?\n",
        "2. Did you check the model architecture? For example, is the model architecture powerful enough to learn the dataset? Is the model architecture too complex? Is the model architecture too simple?\n",
        "3. Did you check the model initialization? For example, is the model initialized properly? Is the model initialized randomly? Is the model initialized with the pre-trained weights?\n",
        "4. Did you check that the model is trained correctly? For example, does the kernel look like an edge detector? What would be the performance of CNN if kernels were initialized with edge detectors?\n",
        "5. Did you check the training procedure? For example, is the training procedure correct? Is the training procedure stable? Is the training procedure too slow?\n",
        "6. Did you optimize the hyperparameters? For example, learning rate, batch size, and the number of epochs.\n",
        "\n",
        "Note that we already checked the dataset, initialization, and model architecture. But we didn't check the step after 3. Let's step 4 first. We will first see what the learned weights look like, initialize the kernels with edge detectors, and see what happens."
      ]
    },
    {
      "cell_type": "code",
      "execution_count": 20,
      "metadata": {
        "id": "Mozw0pMvfRNd",
        "outputId": "058075a4-83ee-4c2a-b074-4ae15bee9ce7",
        "colab": {
          "base_uri": "https://localhost:8080/",
          "height": 1000
        }
      },
      "outputs": [
        {
          "output_type": "display_data",
          "data": {
            "text/plain": [
              "<Figure size 800x100 with 1 Axes>"
            ],
            "image/png": "[encoded data removed]"
          },
          "metadata": {}
        },
        {
          "output_type": "display_data",
          "data": {
            "text/plain": [
              "<Figure size 800x100 with 1 Axes>"
            ],
            "image/png": "[encoded data removed]"
          },
          "metadata": {}
        },
        {
          "output_type": "display_data",
          "data": {
            "text/plain": [
              "<Figure size 800x100 with 1 Axes>"
            ],
            "image/png": "[encoded data removed]"
          },
          "metadata": {}
        },
        {
          "output_type": "display_data",
          "data": {
            "text/plain": [
              "<Figure size 800x100 with 1 Axes>"
            ],
            "image/png": "[encoded data removed]"
          },
          "metadata": {}
        },
        {
          "output_type": "display_data",
          "data": {
            "text/plain": [
              "<Figure size 800x100 with 1 Axes>"
            ],
            "image/png": "[encoded data removed]"
          },
          "metadata": {}
        },
        {
          "output_type": "display_data",
          "data": {
            "text/plain": [
              "<Figure size 800x100 with 1 Axes>"
            ],
            "image/png": "[encoded data removed]"
          },
          "metadata": {}
        },
        {
          "output_type": "display_data",
          "data": {
            "text/plain": [
              "<Figure size 800x100 with 1 Axes>"
            ],
            "image/png": "[encoded data removed]"
          },
          "metadata": {}
        },
        {
          "output_type": "display_data",
          "data": {
            "text/plain": [
              "<Figure size 800x100 with 1 Axes>"
            ],
            "image/png": "[encoded data removed]"
          },
          "metadata": {}
        },
        {
          "output_type": "display_data",
          "data": {
            "text/plain": [
              "<Figure size 800x100 with 1 Axes>"
            ],
            "image/png": "[encoded data removed]"
          },
          "metadata": {}
        },
        {
          "output_type": "display_data",
          "data": {
            "text/plain": [
              "<Figure size 800x100 with 1 Axes>"
            ],
            "image/png": "[encoded data removed]"
          },
          "metadata": {}
        }
      ],
      "source": [
        "for num_image, cnn_kernel in cnn_kernel_dict.items():\n",
        "    untrained_kernel = untrained_cnn_kernel_dict[num_image]\n",
        "    vis_kernel(cnn_kernel, ch=0, allkernels=False, title='Trained Kernel - data: {}'.format(num_image))\n",
        "    vis_kernel(untrained_kernel, ch=0, allkernels=False, title='Untrained Kernel - data: {}'.format(num_image))\n",
        "plt.show()"
      ]
    },
    {
      "cell_type": "markdown",
      "metadata": {
        "id": "bI65xMKGfRNd"
      },
      "source": [
        "#### Question\n",
        "\n",
        "**Compare the learned kernels, untrainable kernels, and edge-detector kernels. What do you observe?**\n",
        "\n",
        "**Ans**: The trained kernel is very similar to the untrained kernel when the data's size is rather small. As the size of data growing, the trained kernel becomes more arranged: the leftmost one keeps the black center row and blurs other parts to grey, the middle one has sharp white and black columns and the rightmost one simply blurs the original kernel."
      ]
    },
    {
      "cell_type": "markdown",
      "metadata": {
        "id": "p3x7J40mfRNe"
      },
      "source": [
        "### Injecting Inductive Bias: Initialize Kernels with Edge Detectors"
      ]
    },
    {
      "cell_type": "code",
      "execution_count": null,
      "metadata": {
        "id": "j0EwMo0cfRNe"
      },
      "outputs": [],
      "source": [
        "lr = 1e-2\n",
        "num_epochs = 30\n",
        "device = torch.device(\"cuda:0\" if torch.cuda.is_available() else \"cpu\")\n",
        "criterion = nn.CrossEntropyLoss()\n",
        "\n",
        "edge_init_cnn_acc_list = list()\n",
        "\n",
        "for num_image, train_loader in train_loader_dict.items():\n",
        "    print(\"Training with {} images\".format(num_image))\n",
        "    cnn_model = SimpleCNN(kernel_size=7)\n",
        "    init_conv_kernel_with_edge_detector(cnn_model)\n",
        "    freeze_conv_layer(cnn_model)\n",
        "    untrained_cnn_model = deepcopy(cnn_model)\n",
        "    cnn_model.to(device)\n",
        "\n",
        "    cnn_optimizer = optim.SGD(cnn_model.parameters(), lr=lr, momentum=0.9)\n",
        "\n",
        "    # logging how training and validation accuracy changes\n",
        "    edge_init_cnn_valid_acc_list = []\n",
        "    for epoch in tqdm(range(num_epochs)):\n",
        "        cnn_train_loss, cnn_train_acc = train_one_epoch(cnn_model, cnn_optimizer, criterion, train_loader, device, epoch, verbose=False)\n",
        "\n",
        "    _, cnn_valid_acc, _ = evaluate(cnn_model, criterion, valid_loader, device, verbose=False)\n",
        "    print(\"CNN Acc: {}\".format(cnn_valid_acc))\n",
        "    edge_init_cnn_acc_list.append(cnn_valid_acc)\n"
      ]
    },
    {
      "cell_type": "code",
      "execution_count": null,
      "metadata": {
        "id": "6LdbKDnXfRNe"
      },
      "outputs": [],
      "source": [
        "## Plot the validation accuracy\n",
        "plt.clf()\n",
        "fig, ax = plt.subplots(1, 1, figsize=(3.5, 3.5), dpi=200)\n",
        "plt.plot(num_images_list, cnn_acc_list, marker='o', label='Randomly Initialized')\n",
        "plt.plot(num_images_list, edge_init_cnn_acc_list, marker='o', label='Edge Initialized')\n",
        "ax.set_xlabel('# of Training Images per Class')\n",
        "ax.set_ylabel('Validation Accuracy (%)')\n",
        "ax.legend()\n",
        "ax.grid()\n",
        "plt.tight_layout()\n",
        "plt.show()\n"
      ]
    },
    {
      "cell_type": "markdown",
      "metadata": {
        "id": "i6bWs2bAfRNe"
      },
      "source": [
        "### Question\n",
        "\n",
        "We freeze the convolutional layer and train only final layer (classifier) in this experiment. For a high data regime, the performance of CNN initialized with edge detectors is worse than CNN initialized with random weights. **Why do you think this happens?** Answer this question in your submission of the written assignment."
      ]
    },
    {
      "cell_type": "markdown",
      "metadata": {
        "id": "y_pzbR7xfRNe"
      },
      "source": [
        "## Q3. Checking the Training Procedure\n",
        "\n",
        "Checking the training procedure is very important. We must log at least training loss, training accuracy, validation loss, and validation accuracy. Let's log such training signals and find out what is going on."
      ]
    },
    {
      "cell_type": "code",
      "execution_count": null,
      "metadata": {
        "id": "jXqR0s7KfRNe"
      },
      "outputs": [],
      "source": [
        "def train_model(model, optimizer, num_epochs, train_loader, valid_loader):\n",
        "    criterion=nn.CrossEntropyLoss()\n",
        "    untrained_model = deepcopy(model)\n",
        "    train_acc_list, valid_acc_list, train_loss_list, valid_loss_list = [], [], [] ,[]\n",
        "    for epoch in tqdm(range(num_epochs)):\n",
        "        train_loss, train_acc = train_one_epoch(model, optimizer, criterion, train_loader, device, epoch, verbose=False)\n",
        "        valid_loss, valid_acc, confusion_matrix = evaluate(model, criterion, valid_loader, device, verbose=False)\n",
        "        train_acc_list.append(train_acc)\n",
        "        valid_acc_list.append(valid_acc)\n",
        "        train_loss_list.append(train_loss)\n",
        "        valid_loss_list.append(valid_loss)\n",
        "\n",
        "    return {\"final_valid_acc\": valid_acc_list[-1], \"train_acc\": train_acc_list, \"valid_acc\": valid_acc_list,\n",
        "            \"train_loss\": train_loss_list, \"valid_loss\": valid_loss_list,\n",
        "            \"confusion_matrix\": confusion_matrix}\n",
        "\n",
        "\n",
        "lr = 1e-2\n",
        "num_epochs = 30\n",
        "device = torch.device(\"cuda:0\" if torch.cuda.is_available() else \"cpu\")\n",
        "criterion = nn.CrossEntropyLoss()\n",
        "\n",
        "cnn_acc_list = list()\n",
        "mlp_acc_list = list()\n",
        "\n",
        "cnn_kernel_dict = dict()\n",
        "untrained_cnn_kernel_dict = dict()\n",
        "\n",
        "for num_image, train_loader in train_loader_dict.items():\n",
        "    print(\"Training with {} images\".format(num_image))\n",
        "    set_seed(seed)\n",
        "    cnn_model = SimpleCNN(kernel_size=7)\n",
        "    untrained_cnn_model = deepcopy(cnn_model)\n",
        "    cnn_model.to(device)\n",
        "\n",
        "    mlp_model = ThreeLayerMLP(hidden_dims=[50, 10])\n",
        "    mlp_model.to(device)\n",
        "\n",
        "    mlp_optimizer = optim.SGD(mlp_model.parameters(), lr=lr, momentum=0.9)\n",
        "    cnn_optimizer = optim.SGD(cnn_model.parameters(), lr=lr, momentum=0.9)\n",
        "\n",
        "    mlp_results = train_model(mlp_model, mlp_optimizer, num_epochs, train_loader, valid_loader)\n",
        "    cnn_results = train_model(cnn_model, cnn_optimizer, num_epochs, train_loader, valid_loader)\n",
        "\n",
        "    vis_training_curve(cnn_results[\"train_loss\"], cnn_results[\"train_acc\"], mlp_results[\"train_loss\"], mlp_results[\"train_acc\"])\n",
        "    vis_validation_curve(cnn_results[\"valid_loss\"], cnn_results[\"valid_acc\"], mlp_results[\"valid_loss\"], mlp_results[\"valid_acc\"])\n",
        "\n",
        "    print(\"CNN Acc: {}, MLP Acc: {}\".format(cnn_results[\"final_valid_acc\"], mlp_results[\"final_valid_acc\"]))"
      ]
    },
    {
      "cell_type": "markdown",
      "metadata": {
        "id": "ZQvCsj0ZfRNe"
      },
      "source": [
        "What is going on here? Validation loss and validation accuracy are not flat at the end. It means that the model is not converged. We need to train the model more. Let's train the model with the higher number of epochs. Increase the number of epochs until the validation loss and accuracy are flat.\n",
        "\n",
        "#### Question\n",
        "\n",
        "**List every epochs that you trained the model.** Final accuracy of CNN should be at least 95% for 30 images per class. Answer this question in your submission of the written assignment.\n",
        "\n",
        "#### Question\n",
        "\n",
        "**Check the learned kernels. What do you observe?** Answer this question in your submission of the written assignment.\n",
        "\n",
        "#### Question (Optional)\n",
        "\n",
        "You might find that with the high number of epochs, validation loss of MLP is increasing while validation accuracy increasing.  **How can we interpret this?** Answer this question in your submission of the written assignment.\n",
        "\n",
        "(Hint: you may find papers that discuss calibrations related to this question (e.g., [paper](https://arxiv.org/pdf/1706.04599.pdf))\n",
        "\n",
        "#### Question (Optional)\n",
        "\n",
        "Do hyperparameter tuning. **And list the best hyperparameter setting that you found and report the final accuracy of CNN and MLP.** Answer this question in your submission of the written assignment."
      ]
    },
    {
      "cell_type": "code",
      "execution_count": null,
      "metadata": {
        "id": "Qbt7NCcmfRNe"
      },
      "outputs": [],
      "source": [
        "#############################################################################\n",
        "# TODO: Try other num_epochs. Final accuracy of CNN should be at around     #\n",
        "# 95-99% for 30 images per class.                                           #\n",
        "#############################################################################\n",
        "#############################################################################\n",
        "#                             END OF YOUR CODE                              #\n",
        "#############################################################################\n",
        "lr = 1e-2\n",
        "device = torch.device(\"cuda:0\" if torch.cuda.is_available() else \"cpu\")\n",
        "criterion = nn.CrossEntropyLoss()\n",
        "\n",
        "cnn_acc_list = list()\n",
        "mlp_acc_list = list()\n",
        "\n",
        "cnn_kernel_dict = dict()\n",
        "untrained_cnn_kernel_dict = dict()\n",
        "\n",
        "for num_image, train_loader in train_loader_dict.items():\n",
        "    print(\"Training with {} images\".format(num_image))\n",
        "    set_seed(seed)\n",
        "    cnn_model = SimpleCNN(kernel_size=7)\n",
        "    untrained_cnn_model = deepcopy(cnn_model)\n",
        "    cnn_model.to(device)\n",
        "\n",
        "    mlp_model = ThreeLayerMLP(hidden_dims=[50, 10])\n",
        "    mlp_model.to(device)\n",
        "\n",
        "    mlp_optimizer = optim.SGD(mlp_model.parameters(), lr=lr, momentum=0.9)\n",
        "    cnn_optimizer = optim.SGD(cnn_model.parameters(), lr=lr, momentum=0.9)\n",
        "\n",
        "    mlp_results = train_model(mlp_model, mlp_optimizer, num_epochs, train_loader, valid_loader)\n",
        "    cnn_results = train_model(cnn_model, cnn_optimizer, num_epochs, train_loader, valid_loader)\n",
        "\n",
        "    vis_training_curve(cnn_results[\"train_loss\"], cnn_results[\"train_acc\"], mlp_results[\"train_loss\"], mlp_results[\"train_acc\"])\n",
        "    vis_validation_curve(cnn_results[\"valid_loss\"], cnn_results[\"valid_acc\"], mlp_results[\"valid_loss\"], mlp_results[\"valid_acc\"])\n",
        "\n",
        "    cnn_kernel_dict[num_image] = deepcopy(cnn_model.conv1.weight.data.detach().cpu())\n",
        "    untrained_cnn_kernel_dict[num_image] = deepcopy(untrained_cnn_model.conv1.weight.data.detach().cpu())\n",
        "\n",
        "    print(\"CNN Acc: {}, MLP Acc: {}\".format(cnn_results[\"final_valid_acc\"], mlp_results[\"final_valid_acc\"]))"
      ]
    },
    {
      "cell_type": "code",
      "execution_count": null,
      "metadata": {
        "id": "3yQGgyJdfRNe"
      },
      "outputs": [],
      "source": [
        "for num_image, cnn_kernel in cnn_kernel_dict.items():\n",
        "    untrained_kernel = untrained_cnn_kernel_dict[num_image]\n",
        "    vis_kernel(cnn_kernel, ch=0, allkernels=False, title='Trained CNN Kernel {}'.format(num_image))\n",
        "    vis_kernel(untrained_kernel, ch=0, allkernels=False, title='Untrained CNN Kernel {}'.format(num_image))\n",
        "plt.show()"
      ]
    },
    {
      "cell_type": "markdown",
      "metadata": {
        "id": "dtKu3HnBfRNe"
      },
      "source": [
        "#### Question\n",
        "\n",
        "**How much more data is needed for MLP to get a competitive performance with CNN?** Answer this question in your submission of the written assignment."
      ]
    },
    {
      "cell_type": "markdown",
      "metadata": {
        "id": "pIFf7FlffRNf"
      },
      "source": [
        "## Q4. Domain Shift between Training and Validation Set\n",
        "\n",
        "In this problem, we will see how the model performance changes when the domain of the training set and that of the validation set are different. We will generate training set images with edges that locate only half of the image and validation set images with edges that locate only the other half of the image. Let's repeat the same experiment as the previous problem."
      ]
    },
    {
      "cell_type": "code",
      "execution_count": null,
      "metadata": {
        "id": "MGG2xDmSfRNf"
      },
      "outputs": [],
      "source": [
        "set_seed(seed)\n",
        "train_loader_dict = dict()\n",
        "num_train_images_list = [10, 30, 50, 100]\n",
        "possible_edge_location_ratio = 0.5\n",
        "valid_loader = None\n",
        "\n",
        "transforms = T.Compose([T.ToTensor()])\n",
        "batch_size = 10\n",
        "\n",
        "for num_image in num_train_images_list:\n",
        "    train_dataset_config = dict(\n",
        "        data_per_class=num_image,\n",
        "        possible_edge_location_ratio=possible_edge_location_ratio,\n",
        "    )\n",
        "    train_dataset = EdgeDetectionDataset(train_dataset_config, 'train', transform=transforms)\n",
        "    train_loader_dict[num_image] = DataLoader(train_dataset, batch_size=batch_size, shuffle=True)\n",
        "\n",
        "valid_dataset_config = dict(\n",
        "    data_per_class=50,\n",
        "    possible_edge_location_ratio=possible_edge_location_ratio,\n",
        ")\n",
        "valid_dataset = EdgeDetectionDataset(valid_dataset_config, 'valid', transform=transforms)\n",
        "valid_loader = DataLoader(valid_dataset, batch_size=batch_size, shuffle=False)\n"
      ]
    },
    {
      "cell_type": "code",
      "execution_count": null,
      "metadata": {
        "id": "caOnxNaJfRNf"
      },
      "outputs": [],
      "source": [
        "lr = 1e-2\n",
        "num_epochs = 300\n",
        "device = torch.device(\"cuda:0\" if torch.cuda.is_available() else \"cpu\")\n",
        "criterion = nn.CrossEntropyLoss()\n",
        "\n",
        "cnn_acc_list = list()\n",
        "mlp_acc_list = list()\n",
        "\n",
        "cnn_kernel_dict = dict()\n",
        "untrained_cnn_kernel_dict = dict()\n",
        "\n",
        "cnn_confusion_matrix_dict = dict()\n",
        "mlp_confusion_matrix_dict = dict()\n",
        "\n",
        "for num_image, train_loader in train_loader_dict.items():\n",
        "    print(\"Training with {} images\".format(num_image))\n",
        "    set_seed(seed)\n",
        "    cnn_model = SimpleCNN(kernel_size=7)\n",
        "    untrained_cnn_model = deepcopy(cnn_model)\n",
        "    cnn_model.to(device)\n",
        "\n",
        "    mlp_model = ThreeLayerMLP(hidden_dims=[50, 10])\n",
        "    mlp_model.to(device)\n",
        "\n",
        "    mlp_optimizer = optim.SGD(mlp_model.parameters(), lr=lr, momentum=0.9)\n",
        "    cnn_optimizer = optim.SGD(cnn_model.parameters(), lr=lr, momentum=0.9)\n",
        "\n",
        "    mlp_results = train_model(mlp_model, mlp_optimizer, num_epochs, train_loader, valid_loader)\n",
        "    cnn_results = train_model(cnn_model, cnn_optimizer, num_epochs, train_loader, valid_loader)\n",
        "\n",
        "    vis_training_curve(cnn_results[\"train_loss\"], cnn_results[\"train_acc\"], mlp_results[\"train_loss\"], mlp_results[\"train_acc\"])\n",
        "    vis_validation_curve(cnn_results[\"valid_loss\"], cnn_results[\"valid_acc\"], mlp_results[\"valid_loss\"], mlp_results[\"valid_acc\"])\n",
        "\n",
        "    cnn_kernel_dict[num_image] = deepcopy(cnn_model.conv1.weight.detach().cpu())\n",
        "    untrained_cnn_kernel_dict[num_image] = deepcopy(untrained_cnn_model.conv1.weight.detach().cpu())\n",
        "\n",
        "    cnn_confusion_matrix_dict[num_image] = cnn_results[\"confusion_matrix\"]\n",
        "    mlp_confusion_matrix_dict[num_image] = mlp_results[\"confusion_matrix\"]\n",
        "\n",
        "    print(\"CNN Acc: {}, MLP Acc: {}\".format(cnn_results[\"final_valid_acc\"], mlp_results[\"final_valid_acc\"]))"
      ]
    },
    {
      "cell_type": "code",
      "execution_count": null,
      "metadata": {
        "id": "2x0tC41IfRNf"
      },
      "outputs": [],
      "source": [
        "for num_image, cnn_kernel in cnn_kernel_dict.items():\n",
        "    untrained_kernel = untrained_cnn_kernel_dict[num_image]\n",
        "    vis_kernel(cnn_kernel, ch=0, allkernels=False, title='Trained CNN Kernel Data={}'.format(num_image))\n",
        "    vis_kernel(untrained_kernel, ch=0, allkernels=False, title='Untrained CNN Kernel Data={}'.format(num_image))\n",
        "plt.show()"
      ]
    },
    {
      "cell_type": "markdown",
      "metadata": {
        "id": "WpwH_D8cfRNf"
      },
      "source": [
        "In this example, you will see that both CNN and MLP performance are worse than those in the previous question. If two models learn how to extract edges, they should be able to classify the images with edges even though the edges locate in the other half of the images. However, both models suffer from performance degration (especially for MLP). What would be the problem? To investigate this, let's first look at the confusion matrices for both models  [link](https://en.wikipedia.org/wiki/Confusion_matrix)."
      ]
    },
    {
      "cell_type": "code",
      "execution_count": null,
      "metadata": {
        "id": "EvNbN5_jfRNf"
      },
      "outputs": [],
      "source": [
        "## Plot the confusion matrix\n",
        "for num_image, cnn_confusion_matrix in cnn_confusion_matrix_dict.items():\n",
        "    mlp_confusion_matrix = mlp_confusion_matrix_dict[num_image]\n",
        "    vis_confusion_matrix(cnn_confusion_matrix, ['horizontal', 'vertical', 'none'], 'CNN-{}-images'.format(num_image))\n",
        "    vis_confusion_matrix(mlp_confusion_matrix, ['horizontal', 'vertical', 'none'], 'MLP-{}-images'.format(num_image))\n",
        "plt.show()"
      ]
    },
    {
      "cell_type": "markdown",
      "metadata": {
        "id": "2PwtdNiqfRNf"
      },
      "source": [
        "#### Question\n",
        "\n",
        "**Why do you think the confusion matrix looks like this?** Answer this question in your submission of the written assignment.\n",
        "\n",
        "(Hint: Visualize some of the images in the training and validation set. And we are using kernel_size=7, which is large relative to the image size.)"
      ]
    },
    {
      "cell_type": "markdown",
      "metadata": {
        "id": "L36l7mWWfRNf"
      },
      "source": [
        "We can do better than this. We didn't explore hyperparameter space yet. Let's search hyperparameters that can generalize well to the validation set. We will change the learning rate, the number of epochs, and kernel size for CNN."
      ]
    },
    {
      "cell_type": "code",
      "execution_count": null,
      "metadata": {
        "id": "Z7tle6ihfRNf"
      },
      "outputs": [],
      "source": [
        "#############################################################################\n",
        "# TODO: Try other num_epochs, lr, kernel_size. The validation accuracy      #\n",
        "# should achieve around 97-100% for 10 images per class.                    #\n",
        "#############################################################################\n",
        "#############################################################################\n",
        "#                             END OF YOUR CODE                              #\n",
        "#############################################################################\n",
        "device = torch.device(\"cuda:0\" if torch.cuda.is_available() else \"cpu\")\n",
        "criterion = nn.CrossEntropyLoss()\n",
        "\n",
        "cnn_valid_acc_list = list()\n",
        "\n",
        "cnn_kernel_dict = dict()\n",
        "\n",
        "cnn_confusion_matrix_dict = dict()\n",
        "\n",
        "for num_image, train_loader in train_loader_dict.items():\n",
        "    print(\"Training with {} images\".format(num_image))\n",
        "    set_seed(seed)\n",
        "    cnn_model = SimpleCNN(kernel_size=kernel_size)\n",
        "    untrained_cnn_model = deepcopy(cnn_model)\n",
        "    cnn_model.to(device)\n",
        "\n",
        "    cnn_optimizer = optim.SGD(cnn_model.parameters(), lr=lr, momentum=0.9)\n",
        "\n",
        "    cnn_results = train_model(cnn_model, cnn_optimizer, num_epochs, train_loader, valid_loader)\n",
        "\n",
        "    vis_training_curve(cnn_results[\"train_loss\"], cnn_results[\"train_acc\"], None, None)\n",
        "    vis_validation_curve(cnn_results[\"valid_loss\"], cnn_results[\"valid_acc\"], None, None)\n",
        "\n",
        "    print(\"CNN Acc: {}\".format(cnn_results[\"final_valid_acc\"]))"
      ]
    },
    {
      "cell_type": "markdown",
      "metadata": {
        "id": "nfU_iYipfRNg"
      },
      "source": [
        "#### Question\n",
        "\n",
        "**Why do you think MLP fails to learn the task while CNN can learn the task?** Answer this question in your submission of the written assignment.\n",
        "\n",
        "(Hint: Think about the model architecture.)"
      ]
    },
    {
      "cell_type": "markdown",
      "metadata": {
        "id": "uJW-oM8CfRNg"
      },
      "source": [
        "## Q5. When is CNN Worse than MLP?\n",
        "\n",
        "In this problem, we will see that CNN is not always better than MLP in the image domain. Using CNN assumes that the data has locally correlated, whatever data looks. We can manually 'whiten' or remove such local correlation simply by applying random permutation to the images. A random permutation matrix is a matrix that has the same number of rows and columns. Each row and column has the same number of 1s. The rest of the elements are 0s. For example, the following is a random permutation matrix.\n",
        "\n",
        "```\n",
        "[[0, 1, 0, 0],\n",
        " [0, 0, 0, 1],\n",
        " [1, 0, 0, 0],\n",
        " [0, 0, 1, 0]]\n",
        "```\n",
        "\n",
        "This matrix randomly reorders the elements of the vector. For example, if we apply this matrix to the vector `[1, 2, 3, 4]`, we will get `[2, 4, 1, 3]`. If we apply this matrix to the image, we will get the image with the same content, but the pixels are randomly shuffled. One property of the random permutation matrix is that it is invertible. It means that we can recover the original image by simply applying the inverse matrix to the shuffled image. From the information-theoretical perspective, the random permutation matrix preserves the mutual information of the image and the label.\n",
        "\n",
        "We will repeat the same experiment as the previous problem. Visualize the dataset first."
      ]
    },
    {
      "cell_type": "code",
      "execution_count": null,
      "metadata": {
        "id": "OpJXVvFSfRNg"
      },
      "outputs": [],
      "source": [
        "set_seed(seed)\n",
        "visual_domain_config = None\n",
        "use_permutation = True\n",
        "\n",
        "permutater = np.arange(28 * 28,  dtype=np.int32)\n",
        "np.random.shuffle(permutater)\n",
        "unpermutater = np.argsort(permutater)\n",
        "\n",
        "visual_dataset = None\n",
        "\n",
        "transforms = T.Compose([T.ToTensor()])\n",
        "\n",
        "visual_domain_config = dict(\n",
        "    data_per_class=10,\n",
        "    use_permutation=True,\n",
        "    permutater=permutater,\n",
        "    unpermutater=unpermutater,\n",
        ")\n",
        "visual_dataset = EdgeDetectionDataset(visual_domain_config, mode='train', transform=transforms)"
      ]
    },
    {
      "cell_type": "code",
      "execution_count": null,
      "metadata": {
        "id": "xZlup1KVfRNg"
      },
      "outputs": [],
      "source": [
        "## Visualize the images\n",
        "unpermutator = visual_dataset.get_unpermutater()\n",
        "print('Dataset Image before permutation')\n",
        "vis_unpermuted_dataset(visual_dataset, num_classes=3, num_show_per_class=10, unpermutator=unpermutator)\n",
        "\n",
        "print('Dataset Image after permutation')\n",
        "vis_dataset(visual_dataset, num_classes=3, num_show_per_class=10)\n",
        "\n",
        "plt.show()"
      ]
    },
    {
      "cell_type": "markdown",
      "metadata": {
        "id": "SRzBU-dmfRNg"
      },
      "source": [
        "Now let's train CNN and MLP on the permuted dataset."
      ]
    },
    {
      "cell_type": "code",
      "execution_count": null,
      "metadata": {
        "id": "wNMCIS9JfRNg"
      },
      "outputs": [],
      "source": [
        "set_seed(seed)\n",
        "\n",
        "train_loader_dict = dict()\n",
        "num_train_images_list = [10, 30, 50, 100]\n",
        "use_permutation = True\n",
        "valid_loader = None\n",
        "\n",
        "permutater = np.arange(28 * 28,  dtype=np.int32)\n",
        "np.random.shuffle(permutater)\n",
        "unpermutater = np.argsort(permutater)\n",
        "\n",
        "transforms = T.Compose([T.ToTensor()])\n",
        "\n",
        "batch_size = 10\n",
        "\n",
        "for num_image in num_train_images_list:\n",
        "    train_dataset_config = dict(\n",
        "        data_per_class=num_image,\n",
        "        use_permutation=True,\n",
        "        permutater=permutater,\n",
        "        unpermutater=unpermutater,\n",
        "    )\n",
        "    train_dataset = EdgeDetectionDataset(train_dataset_config, 'train', transform=transforms)\n",
        "    train_loader_dict[num_image] = DataLoader(train_dataset, batch_size=batch_size, shuffle=True)\n",
        "\n",
        "valid_dataset_config = dict(\n",
        "    data_per_class=50,\n",
        "    use_permutation=True,\n",
        "    permutater=permutater,\n",
        "    unpermutater=unpermutater,\n",
        ")\n",
        "valid_dataset = EdgeDetectionDataset(valid_dataset_config, 'valid', transform=transforms)\n",
        "valid_loader = DataLoader(valid_dataset, batch_size=batch_size, shuffle=False)\n"
      ]
    },
    {
      "cell_type": "code",
      "execution_count": null,
      "metadata": {
        "id": "SDtXqFzGfRNg"
      },
      "outputs": [],
      "source": [
        "lr = 1e-2\n",
        "num_epochs = 300\n",
        "device = torch.device(\"cuda:0\" if torch.cuda.is_available() else \"cpu\")\n",
        "criterion = nn.CrossEntropyLoss()\n",
        "\n",
        "cnn_kernel_dict = dict()\n",
        "untrained_cnn_kernel_dict = dict()\n",
        "\n",
        "for num_image, train_loader in train_loader_dict.items():\n",
        "    print(\"Training with {} images\".format(num_image))\n",
        "    set_seed(seed)\n",
        "    cnn_model = SimpleCNN(kernel_size=7)\n",
        "    untrained_cnn_model = deepcopy(cnn_model)\n",
        "    cnn_model.to(device)\n",
        "\n",
        "    mlp_model = ThreeLayerMLP(hidden_dims=[50, 10])\n",
        "    mlp_model.to(device)\n",
        "\n",
        "    mlp_optimizer = optim.SGD(mlp_model.parameters(), lr=lr, momentum=0.9)\n",
        "    cnn_optimizer = optim.SGD(cnn_model.parameters(), lr=lr, momentum=0.9)\n",
        "\n",
        "    mlp_results = train_model(mlp_model, mlp_optimizer, num_epochs, train_loader, valid_loader)\n",
        "    cnn_results = train_model(cnn_model, cnn_optimizer, num_epochs, train_loader, valid_loader)\n",
        "\n",
        "    vis_training_curve(cnn_results[\"train_loss\"], cnn_results[\"train_acc\"], mlp_results[\"train_loss\"], mlp_results[\"train_acc\"])\n",
        "    vis_validation_curve(cnn_results[\"valid_loss\"], cnn_results[\"valid_acc\"], mlp_results[\"valid_loss\"], mlp_results[\"valid_acc\"])\n",
        "\n",
        "    cnn_kernel_dict[num_image] = cnn_model.conv1.weight.detach().cpu()\n",
        "    untrained_cnn_kernel_dict[num_image] = untrained_cnn_model.conv1.weight.detach().cpu()\n",
        "\n",
        "    print(\"CNN Acc: {}, MLP Acc: {}\".format(cnn_results[\"final_valid_acc\"], mlp_results[\"final_valid_acc\"]))"
      ]
    },
    {
      "cell_type": "markdown",
      "metadata": {
        "id": "wAyBwfr-fRNg"
      },
      "source": [
        "#### Question\n",
        "\n",
        "**What do you observe? What is the reason that CNN is worse than MLP?** Answer this question in your submission of the written assignment.\n",
        "\n",
        "(Hint: Think about the model architecture.)\n",
        "\n",
        "#### Question\n",
        "\n",
        "**Assuming we are decreasing kernel size of CNN. Does the validation accuracy increase or decrease? Why?** Answer this question in your submission of the written assignment."
      ]
    },
    {
      "cell_type": "markdown",
      "metadata": {
        "id": "HdqsWCBvfRNg"
      },
      "source": [
        "Now let's visualize CNN's learned kernel."
      ]
    },
    {
      "cell_type": "code",
      "execution_count": null,
      "metadata": {
        "id": "Q7u0UwgnfRNg"
      },
      "outputs": [],
      "source": [
        "for num_image, cnn_kernel in cnn_kernel_dict.items():\n",
        "    untrained_kernel = untrained_cnn_kernel_dict[num_image]\n",
        "    vis_kernel(cnn_kernel, ch=0, allkernels=False, title='Trained CNN Kernel Data={}'.format(num_image))\n",
        "    vis_kernel(untrained_kernel, ch=0, allkernels=False, title='Untrained CNN Kernel Data={}'.format(num_image))\n",
        "plt.show()"
      ]
    },
    {
      "cell_type": "markdown",
      "metadata": {
        "id": "fOMAZ7T2fRNh"
      },
      "source": [
        "\n",
        "#### Question\n",
        "\n",
        "**How do the learned kernels look like? Explain why.** Answer this question in your submission of the written assignment."
      ]
    },
    {
      "cell_type": "markdown",
      "metadata": {
        "id": "j8LB02NYfRNh"
      },
      "source": [
        "From the above example, we can see that CNN is not always better than MLP. We have to think about the domain (or task) of the dataset and the model architecture to decide which model is better."
      ]
    },
    {
      "cell_type": "markdown",
      "metadata": {
        "id": "OdQWauLNfRNh"
      },
      "source": [
        "## Q6. Increasing the Number of Classes\n",
        "\n",
        "OK, can we conclude that CNN has the inductive bias that the model is translation invariant? Let's try other experiments. We make the task harder. In this problem, we increase the number of classes to 5. The new classes are 0 for horizontal edges, 1 for vertical edges, 2 for diagonal edges, 3 for vertical and horizontal, and 4 for nothing. Let's generate the dataset with 10 images per class and visualize the dataset."
      ]
    },
    {
      "cell_type": "code",
      "execution_count": null,
      "metadata": {
        "id": "4nd8_YExfRNh"
      },
      "outputs": [],
      "source": [
        "set_seed(seed)\n",
        "visual_domain_config = None\n",
        "\n",
        "visual_dataset = None\n",
        "\n",
        "transforms = T.Compose([T.ToTensor()])\n",
        "visual_domain_config = dict(\n",
        "    data_per_class=10,\n",
        "    class_type=['horizontal', 'vertical', 'diagonal', 'both', 'none'],\n",
        "    num_classes=5,\n",
        ")\n",
        "\n",
        "visual_dataset = EdgeDetectionDataset(visual_domain_config, 'train', transform=transforms)"
      ]
    },
    {
      "cell_type": "markdown",
      "metadata": {
        "id": "pF5MBTlzfRNh"
      },
      "source": [
        "Let's visualize the dataset first."
      ]
    },
    {
      "cell_type": "code",
      "execution_count": null,
      "metadata": {
        "id": "DKB6p2K7fRNh"
      },
      "outputs": [],
      "source": [
        "vis_dataset(visual_dataset, 5, 10)\n",
        "plt.show()"
      ]
    },
    {
      "cell_type": "markdown",
      "metadata": {
        "id": "aePWqygDfRNh"
      },
      "source": [
        "Now let's make the new dataset. In this problem, we also see how the model performance changes as the number of images per class increases. Let's sweep the number of training images 10, 30, 50, and 100. The validation set will be the same (50) for all the cases."
      ]
    },
    {
      "cell_type": "code",
      "execution_count": null,
      "metadata": {
        "id": "h7p-64oqfRNh"
      },
      "outputs": [],
      "source": [
        "set_seed(seed)\n",
        "\n",
        "train_dataset_config = None\n",
        "train_loader_dict = dict()\n",
        "num_train_images_list = [10, 30, 50, 100]\n",
        "valid_loader = None\n",
        "\n",
        "transforms = T.Compose([T.ToTensor()])\n",
        "batch_size = 10\n",
        "class_type = ['horizontal', 'vertical', 'diagonal', 'both', 'none']\n",
        "train_dataset_config = dict(\n",
        "    class_type=class_type,\n",
        "    num_classes=len(class_type),\n",
        ")\n",
        "for num_train_images in num_train_images_list:\n",
        "    train_dataset_config['data_per_class'] = num_train_images\n",
        "    train_dataset = EdgeDetectionDataset(train_dataset_config, 'train', transform=transforms)\n",
        "    train_loader_dict[num_train_images] = DataLoader(train_dataset, batch_size=batch_size, shuffle=True)\n",
        "\n",
        "\n",
        "valid_dataset_config = dict(\n",
        "    data_per_class=50,\n",
        "    class_type=['horizontal', 'vertical', 'diagonal', 'both', 'none'],\n",
        "    num_classes=len(class_type),\n",
        ")\n",
        "valid_dataset = EdgeDetectionDataset(valid_dataset_config, 'valid', transform=transforms)\n",
        "valid_loader = DataLoader(valid_dataset, batch_size=batch_size, shuffle=True)"
      ]
    },
    {
      "cell_type": "code",
      "execution_count": null,
      "metadata": {
        "id": "3aRt_awnfRNh"
      },
      "outputs": [],
      "source": [
        "lr = 1e-2\n",
        "num_epochs = 200\n",
        "device = torch.device(\"cuda:0\" if torch.cuda.is_available() else \"cpu\")\n",
        "criterion = nn.CrossEntropyLoss()\n",
        "\n",
        "cnn_kernel_dict = dict()\n",
        "untrained_cnn_kernel_dict = dict()\n",
        "\n",
        "cnn_confusion_matrix_dict = dict()\n",
        "mlp_confusion_matrix_dict = dict()\n",
        "\n",
        "cnn_result_dict = dict()\n",
        "for num_image, train_loader in train_loader_dict.items():\n",
        "    print(\"Training with {} images\".format(num_image))\n",
        "    set_seed(seed)\n",
        "    cnn_model = SimpleCNN(kernel_size=7, num_classes=5)\n",
        "    untrained_cnn_model = deepcopy(cnn_model)\n",
        "    cnn_model.to(device)\n",
        "\n",
        "    mlp_model = ThreeLayerMLP(hidden_dims=[50, 10], num_classes=5)\n",
        "    mlp_model.to(device)\n",
        "\n",
        "    mlp_optimizer = optim.SGD(mlp_model.parameters(), lr=lr, momentum=0.9)\n",
        "    cnn_optimizer = optim.SGD(cnn_model.parameters(), lr=lr, momentum=0.9)\n",
        "\n",
        "    mlp_results = train_model(mlp_model, mlp_optimizer, num_epochs, train_loader, valid_loader)\n",
        "    cnn_results = train_model(cnn_model, cnn_optimizer, num_epochs, train_loader, valid_loader)\n",
        "\n",
        "    vis_training_curve(cnn_results[\"train_loss\"], cnn_results[\"train_acc\"], mlp_results[\"train_loss\"], mlp_results[\"train_acc\"])\n",
        "    vis_validation_curve(cnn_results[\"valid_loss\"], cnn_results[\"valid_acc\"], mlp_results[\"valid_loss\"], mlp_results[\"valid_acc\"])\n",
        "\n",
        "    cnn_kernel_dict[num_image] = cnn_model.conv1.weight.detach().cpu()\n",
        "    untrained_cnn_kernel_dict[num_image] = untrained_cnn_model.conv1.weight.detach().cpu()\n",
        "\n",
        "    cnn_result_dict[num_image] = cnn_results\n",
        "    print(\"CNN Acc: {}, MLP Acc: {}\".format(cnn_results[\"final_valid_acc\"], mlp_results[\"final_valid_acc\"]))"
      ]
    },
    {
      "cell_type": "markdown",
      "metadata": {
        "id": "TiVF8SsFfRNh"
      },
      "source": [
        "*We look at two types of pooling operations to downsample the image features:*\n",
        "\n",
        "1) Max pooling: The maximum pixel value of the batch is selected.\n",
        "2) Average pooling: The average value of all the pixels in the batch is selected.\n",
        "\n",
        "Up until this point, we have been using the first type of pooling operation (Max pooling). Let's train the same model but with the average pooling to compare these two types of operations!  "
      ]
    },
    {
      "cell_type": "code",
      "execution_count": null,
      "metadata": {
        "id": "3q4gkdkXfRNh"
      },
      "outputs": [],
      "source": [
        "lr = 1e-2\n",
        "num_epochs = 200\n",
        "device = torch.device(\"cuda:0\" if torch.cuda.is_available() else \"cpu\")\n",
        "criterion = nn.CrossEntropyLoss()\n",
        "\n",
        "cnnavg_kernel_dict = dict()\n",
        "\n",
        "for num_image, train_loader in train_loader_dict.items():\n",
        "    print(\"Training with {} images\".format(num_image))\n",
        "    set_seed(seed)\n",
        "\n",
        "    cnnavg_model = SimpleCNN_avgpool(kernel_size=7, num_classes=5)\n",
        "    cnnavg_model.to(device)\n",
        "\n",
        "    cnnavg_optimizer = optim.SGD(cnnavg_model.parameters(), lr=lr, momentum=0.9)\n",
        "\n",
        "    cnnavg_results = train_model(cnnavg_model, cnnavg_optimizer, num_epochs, train_loader, valid_loader)\n",
        "    cnn_results = cnn_result_dict[num_image] # load the results from the previous cell as we have already trained the maxpool model.\n",
        "\n",
        "    vis_training_curve(cnn_results[\"train_loss\"], cnn_results[\"train_acc\"], cnnavg_results[\"train_loss\"], cnnavg_results[\"train_acc\"], label=\"CNN-avgpool\")\n",
        "    vis_validation_curve(cnn_results[\"valid_loss\"], cnn_results[\"valid_acc\"], cnnavg_results[\"valid_loss\"], cnnavg_results[\"valid_acc\"], label=\"CNN-avgpool\")\n",
        "\n",
        "    cnnavg_kernel_dict[num_image] = cnnavg_model.conv1.weight.detach().cpu()\n",
        "\n",
        "    print(\"CNN-maxpool Acc: {}, CNN-avgpool Acc: {}\".format(cnn_results[\"final_valid_acc\"], cnnavg_results[\"final_valid_acc\"]))"
      ]
    },
    {
      "cell_type": "code",
      "execution_count": null,
      "metadata": {
        "id": "xM336hS8fRNh"
      },
      "outputs": [],
      "source": [
        "for num_image, cnn_kernel in cnn_kernel_dict.items():\n",
        "    untrained_kernel = untrained_cnn_kernel_dict[num_image]\n",
        "    cnnavg_kernel = cnnavg_kernel_dict[num_image]\n",
        "    vis_kernel(cnn_kernel, ch=0, allkernels=False, title='Trained CNN Kernel Maxpool Data={}'.format(num_image))\n",
        "    vis_kernel(cnnavg_kernel, ch=0, allkernels=False, title='Trained CNN Kernel Avgpool Data={}'.format(num_image))\n",
        "    vis_kernel(untrained_kernel, ch=0, allkernels=False, title='Untrained CNN Kernel Data={}'.format(num_image))\n",
        "\n",
        "plt.show()"
      ]
    },
    {
      "cell_type": "markdown",
      "metadata": {
        "id": "gRK9EJCtfRNi"
      },
      "source": [
        "#### Question\n",
        "\n",
        "**Compare the performance of CNN with max pooling and average pooling. What are the advantages of each pooling method?** Answer this question in your submission of the written assignment."
      ]
    },
    {
      "cell_type": "markdown",
      "metadata": {
        "id": "SEe8DamEfRNi"
      },
      "source": [
        "\n",
        "## Q7. Wider/Deeper CNNs\n",
        "\n",
        "Can we further improve the performance by making the architecture deeper and wider? In this question, we focus on the dataset where there are only 30 images per class and try to push the performance of the CNNs further.\n",
        "\n",
        "The patterns that we have to detect are 5 but our kernels per layer (`num_filters` in the network definition above) are only 3. Intuitively, this is quite a suboptimal. Here, we will investigate the affect of increasing width and depth. Let's use the same dataset but we will use ```DeeperCNN``` and ```WiderCNN``` in ```cnn.py```. ```DeeperCNN``` has 2 times more layers than ```SimpleCNN``` and ```WiderCNN``` has 2 times more kernels per layer than ```SimpleCNN```. Let's train the models and visualize the validation accuracy."
      ]
    },
    {
      "cell_type": "code",
      "execution_count": null,
      "metadata": {
        "id": "OyTaEqSCfRNi"
      },
      "outputs": [],
      "source": [
        "#############################################################################\n",
        "# TODO: Train DeeperCNN and tuning hyperparameters. Try other num_epochs,   #\n",
        "# lr, kernel_size. Also try a different optimizer (e.g., Adam)              #\n",
        "# The validation accuracy can reach above 98% for 30 images per class.      #\n",
        "#############################################################################\n",
        "#############################################################################\n",
        "#                             END OF YOUR CODE                              #\n",
        "#############################################################################\n",
        "device = torch.device(\"cuda:0\" if torch.cuda.is_available() else \"cpu\")\n",
        "criterion = nn.CrossEntropyLoss()\n",
        "\n",
        "train_loader = train_loader_dict[30]\n",
        "set_seed(seed)\n",
        "deeper_cnn_model = DeeperCNN(kernel_size=kernel_size)\n",
        "untrained_deeper_cnn_model = deepcopy(deeper_cnn_model)\n",
        "deeper_cnn_model.to(device)\n",
        "\n",
        "deeper_cnn_optimizer = optim.SGD(deeper_cnn_model.parameters(), lr=lr, momentum=0.9)\n",
        "# deeper_cnn_optimizer = optim.Adam(deeper_cnn_model.parameters(), lr=lr)  # try me!\n",
        "\n",
        "deeper_cnn_results = train_model(deeper_cnn_model, deeper_cnn_optimizer, num_epochs, train_loader, valid_loader)\n",
        "\n",
        "vis_training_curve(deeper_cnn_results[\"train_loss\"], deeper_cnn_results[\"train_acc\"], None, None)\n",
        "vis_validation_curve(deeper_cnn_results[\"valid_loss\"], deeper_cnn_results[\"valid_acc\"], None, None)\n",
        "\n",
        "print(\"CNN Acc: {}\".format(deeper_cnn_results[\"final_valid_acc\"]))"
      ]
    },
    {
      "cell_type": "code",
      "execution_count": null,
      "metadata": {
        "id": "0WJD44jZfRNi"
      },
      "outputs": [],
      "source": [
        "#############################################################################\n",
        "# TODO: Train DeeperCNN and tuning hyperparameters. Try other num_epochs,   #\n",
        "# lr, kernel_size. Also try a different optimizer (e.g., Adam)              #\n",
        "# The validation accuracy can reach above 98% for 30 images per class.      #\n",
        "#############################################################################\n",
        "#############################################################################\n",
        "#                             END OF YOUR CODE                              #\n",
        "#############################################################################\n",
        "device = torch.device(\"cuda:0\" if torch.cuda.is_available() else \"cpu\")\n",
        "criterion = nn.CrossEntropyLoss()\n",
        "\n",
        "train_loader = train_loader_dict[30]\n",
        "set_seed(seed)\n",
        "wider_cnn_model = WiderCNN(kernel_size=kernel_size)\n",
        "untrained_wider_cnn_model = deepcopy(wider_cnn_model)\n",
        "wider_cnn_model.to(device)\n",
        "\n",
        "wider_cnn_optimizer = optim.SGD(wider_cnn_model.parameters(), lr=lr, momentum=0.9)\n",
        "# wider_cnn_optimizer = optim.Adam(wider_cnn_model.parameters(), lr=lr)  # try me!\n",
        "\n",
        "wider_cnn_results = train_model(wider_cnn_model, wider_cnn_optimizer, num_epochs, train_loader, valid_loader)\n",
        "\n",
        "vis_training_curve(wider_cnn_results[\"train_loss\"], wider_cnn_results[\"train_acc\"], None, None)\n",
        "vis_validation_curve(wider_cnn_results[\"valid_loss\"], wider_cnn_results[\"valid_acc\"], None, None)\n",
        "\n",
        "print(\"CNN Acc: {}\".format(wider_cnn_results[\"final_valid_acc\"]))"
      ]
    }
  ],
  "metadata": {
    "colab": {
      "provenance": []
    },
    "kernelspec": {
      "display_name": "Python 3",
      "language": "python",
      "name": "python3"
    },
    "language_info": {
      "codemirror_mode": {
        "name": "ipython",
        "version": 3
      },
      "file_extension": ".py",
      "mimetype": "text/x-python",
      "name": "python",
      "nbconvert_exporter": "python",
      "pygments_lexer": "ipython3",
      "version": "3.6.3"
    },
    "vscode": {
      "interpreter": {
        "hash": "dad0cb719410d80ddfd601aac97c786f16717fe3c155f75a38a62246744ec8e1"
      }
    }
  },
  "nbformat": 4,
  "nbformat_minor": 0
}